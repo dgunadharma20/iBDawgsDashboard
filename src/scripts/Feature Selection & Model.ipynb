{
 "cells": [
  {
   "cell_type": "code",
   "execution_count": 24,
   "id": "620ecb88",
   "metadata": {},
   "outputs": [],
   "source": [
    "import pandas as pd\n",
    "import numpy as np\n",
    "import statsmodels.formula.api as smf\n",
    "import seaborn as sns\n",
    "import matplotlib.pyplot as plt\n",
    "\n",
    "pd.options.display.max_rows = 999\n",
    "pd.options.display.max_columns = 999"
   ]
  },
  {
   "cell_type": "code",
   "execution_count": 25,
   "id": "a1711322",
   "metadata": {},
   "outputs": [],
   "source": [
    "#load data and ensure it's good\n",
    "df = pd.read_csv(\"./Friday-WorkingHours-Afternoon-DDos.pcap_ISCX.csv\")\n",
    "\n",
    "df.columns = df.columns.str.lstrip()\n",
    "df.columns = df.columns.str.replace(' ', '_')\n",
    "df.columns = df.columns.str.replace('/s', '_s')\n",
    "df.columns = df.columns.str.replace('Fwd_Header_Length.1', 'Fwd_Header_Length1')\n",
    "df.replace([np.inf, -np.inf], np.nan, inplace=True)\n",
    "df=df.fillna(0)\n",
    "df[\"Target\"] = np.where(df[\"Label\"] == \"BENIGN\", 0, 1)"
   ]
  },
  {
   "cell_type": "code",
   "execution_count": 26,
   "id": "aa072e86",
   "metadata": {},
   "outputs": [
    {
     "data": {
      "text/html": [
       "<div>\n",
       "<style scoped>\n",
       "    .dataframe tbody tr th:only-of-type {\n",
       "        vertical-align: middle;\n",
       "    }\n",
       "\n",
       "    .dataframe tbody tr th {\n",
       "        vertical-align: top;\n",
       "    }\n",
       "\n",
       "    .dataframe thead th {\n",
       "        text-align: right;\n",
       "    }\n",
       "</style>\n",
       "<table border=\"1\" class=\"dataframe\">\n",
       "  <thead>\n",
       "    <tr style=\"text-align: right;\">\n",
       "      <th></th>\n",
       "      <th>Destination_Port</th>\n",
       "      <th>Flow_Duration</th>\n",
       "      <th>Total_Fwd_Packets</th>\n",
       "      <th>Total_Backward_Packets</th>\n",
       "      <th>Total_Length_of_Fwd_Packets</th>\n",
       "      <th>Total_Length_of_Bwd_Packets</th>\n",
       "      <th>Fwd_Packet_Length_Max</th>\n",
       "      <th>Fwd_Packet_Length_Min</th>\n",
       "      <th>Fwd_Packet_Length_Mean</th>\n",
       "      <th>Fwd_Packet_Length_Std</th>\n",
       "      <th>Bwd_Packet_Length_Max</th>\n",
       "      <th>Bwd_Packet_Length_Min</th>\n",
       "      <th>Bwd_Packet_Length_Mean</th>\n",
       "      <th>Bwd_Packet_Length_Std</th>\n",
       "      <th>Flow_Bytes_s</th>\n",
       "      <th>Flow_Packets_s</th>\n",
       "      <th>Flow_IAT_Mean</th>\n",
       "      <th>Flow_IAT_Std</th>\n",
       "      <th>Flow_IAT_Max</th>\n",
       "      <th>Flow_IAT_Min</th>\n",
       "      <th>Fwd_IAT_Total</th>\n",
       "      <th>Fwd_IAT_Mean</th>\n",
       "      <th>Fwd_IAT_Std</th>\n",
       "      <th>Fwd_IAT_Max</th>\n",
       "      <th>Fwd_IAT_Min</th>\n",
       "      <th>Bwd_IAT_Total</th>\n",
       "      <th>Bwd_IAT_Mean</th>\n",
       "      <th>Bwd_IAT_Std</th>\n",
       "      <th>Bwd_IAT_Max</th>\n",
       "      <th>Bwd_IAT_Min</th>\n",
       "      <th>Fwd_PSH_Flags</th>\n",
       "      <th>Bwd_PSH_Flags</th>\n",
       "      <th>Fwd_URG_Flags</th>\n",
       "      <th>Bwd_URG_Flags</th>\n",
       "      <th>Fwd_Header_Length</th>\n",
       "      <th>Bwd_Header_Length</th>\n",
       "      <th>Fwd_Packets_s</th>\n",
       "      <th>Bwd_Packets_s</th>\n",
       "      <th>Min_Packet_Length</th>\n",
       "      <th>Max_Packet_Length</th>\n",
       "      <th>Packet_Length_Mean</th>\n",
       "      <th>Packet_Length_Std</th>\n",
       "      <th>Packet_Length_Variance</th>\n",
       "      <th>FIN_Flag_Count</th>\n",
       "      <th>SYN_Flag_Count</th>\n",
       "      <th>RST_Flag_Count</th>\n",
       "      <th>PSH_Flag_Count</th>\n",
       "      <th>ACK_Flag_Count</th>\n",
       "      <th>URG_Flag_Count</th>\n",
       "      <th>CWE_Flag_Count</th>\n",
       "      <th>ECE_Flag_Count</th>\n",
       "      <th>Down/Up_Ratio</th>\n",
       "      <th>Average_Packet_Size</th>\n",
       "      <th>Avg_Fwd_Segment_Size</th>\n",
       "      <th>Avg_Bwd_Segment_Size</th>\n",
       "      <th>Fwd_Header_Length1</th>\n",
       "      <th>Fwd_Avg_Bytes/Bulk</th>\n",
       "      <th>Fwd_Avg_Packets/Bulk</th>\n",
       "      <th>Fwd_Avg_Bulk_Rate</th>\n",
       "      <th>Bwd_Avg_Bytes/Bulk</th>\n",
       "      <th>Bwd_Avg_Packets/Bulk</th>\n",
       "      <th>Bwd_Avg_Bulk_Rate</th>\n",
       "      <th>Subflow_Fwd_Packets</th>\n",
       "      <th>Subflow_Fwd_Bytes</th>\n",
       "      <th>Subflow_Bwd_Packets</th>\n",
       "      <th>Subflow_Bwd_Bytes</th>\n",
       "      <th>Init_Win_bytes_forward</th>\n",
       "      <th>Init_Win_bytes_backward</th>\n",
       "      <th>act_data_pkt_fwd</th>\n",
       "      <th>min_seg_size_forward</th>\n",
       "      <th>Active_Mean</th>\n",
       "      <th>Active_Std</th>\n",
       "      <th>Active_Max</th>\n",
       "      <th>Active_Min</th>\n",
       "      <th>Idle_Mean</th>\n",
       "      <th>Idle_Std</th>\n",
       "      <th>Idle_Max</th>\n",
       "      <th>Idle_Min</th>\n",
       "      <th>Label</th>\n",
       "      <th>Target</th>\n",
       "    </tr>\n",
       "  </thead>\n",
       "  <tbody>\n",
       "    <tr>\n",
       "      <th>0</th>\n",
       "      <td>54865</td>\n",
       "      <td>3</td>\n",
       "      <td>2</td>\n",
       "      <td>0</td>\n",
       "      <td>12</td>\n",
       "      <td>0</td>\n",
       "      <td>6</td>\n",
       "      <td>6</td>\n",
       "      <td>6.0</td>\n",
       "      <td>0.0</td>\n",
       "      <td>0</td>\n",
       "      <td>0</td>\n",
       "      <td>0.0</td>\n",
       "      <td>0.0</td>\n",
       "      <td>4.000000e+06</td>\n",
       "      <td>666666.66670</td>\n",
       "      <td>3.0</td>\n",
       "      <td>0.0</td>\n",
       "      <td>3</td>\n",
       "      <td>3</td>\n",
       "      <td>3</td>\n",
       "      <td>3.0</td>\n",
       "      <td>0.0</td>\n",
       "      <td>3</td>\n",
       "      <td>3</td>\n",
       "      <td>0</td>\n",
       "      <td>0.0</td>\n",
       "      <td>0.0</td>\n",
       "      <td>0</td>\n",
       "      <td>0</td>\n",
       "      <td>0</td>\n",
       "      <td>0</td>\n",
       "      <td>0</td>\n",
       "      <td>0</td>\n",
       "      <td>40</td>\n",
       "      <td>0</td>\n",
       "      <td>666666.666700</td>\n",
       "      <td>0.000000</td>\n",
       "      <td>6</td>\n",
       "      <td>6</td>\n",
       "      <td>6.0</td>\n",
       "      <td>0.0</td>\n",
       "      <td>0.0</td>\n",
       "      <td>0</td>\n",
       "      <td>0</td>\n",
       "      <td>0</td>\n",
       "      <td>0</td>\n",
       "      <td>1</td>\n",
       "      <td>0</td>\n",
       "      <td>0</td>\n",
       "      <td>0</td>\n",
       "      <td>0</td>\n",
       "      <td>9.0</td>\n",
       "      <td>6.0</td>\n",
       "      <td>0.0</td>\n",
       "      <td>40</td>\n",
       "      <td>0</td>\n",
       "      <td>0</td>\n",
       "      <td>0</td>\n",
       "      <td>0</td>\n",
       "      <td>0</td>\n",
       "      <td>0</td>\n",
       "      <td>2</td>\n",
       "      <td>12</td>\n",
       "      <td>0</td>\n",
       "      <td>0</td>\n",
       "      <td>33</td>\n",
       "      <td>-1</td>\n",
       "      <td>1</td>\n",
       "      <td>20</td>\n",
       "      <td>0.0</td>\n",
       "      <td>0.0</td>\n",
       "      <td>0</td>\n",
       "      <td>0</td>\n",
       "      <td>0.0</td>\n",
       "      <td>0.0</td>\n",
       "      <td>0</td>\n",
       "      <td>0</td>\n",
       "      <td>BENIGN</td>\n",
       "      <td>0</td>\n",
       "    </tr>\n",
       "    <tr>\n",
       "      <th>1</th>\n",
       "      <td>55054</td>\n",
       "      <td>109</td>\n",
       "      <td>1</td>\n",
       "      <td>1</td>\n",
       "      <td>6</td>\n",
       "      <td>6</td>\n",
       "      <td>6</td>\n",
       "      <td>6</td>\n",
       "      <td>6.0</td>\n",
       "      <td>0.0</td>\n",
       "      <td>6</td>\n",
       "      <td>6</td>\n",
       "      <td>6.0</td>\n",
       "      <td>0.0</td>\n",
       "      <td>1.100917e+05</td>\n",
       "      <td>18348.62385</td>\n",
       "      <td>109.0</td>\n",
       "      <td>0.0</td>\n",
       "      <td>109</td>\n",
       "      <td>109</td>\n",
       "      <td>0</td>\n",
       "      <td>0.0</td>\n",
       "      <td>0.0</td>\n",
       "      <td>0</td>\n",
       "      <td>0</td>\n",
       "      <td>0</td>\n",
       "      <td>0.0</td>\n",
       "      <td>0.0</td>\n",
       "      <td>0</td>\n",
       "      <td>0</td>\n",
       "      <td>0</td>\n",
       "      <td>0</td>\n",
       "      <td>0</td>\n",
       "      <td>0</td>\n",
       "      <td>20</td>\n",
       "      <td>20</td>\n",
       "      <td>9174.311927</td>\n",
       "      <td>9174.311927</td>\n",
       "      <td>6</td>\n",
       "      <td>6</td>\n",
       "      <td>6.0</td>\n",
       "      <td>0.0</td>\n",
       "      <td>0.0</td>\n",
       "      <td>0</td>\n",
       "      <td>0</td>\n",
       "      <td>0</td>\n",
       "      <td>0</td>\n",
       "      <td>1</td>\n",
       "      <td>1</td>\n",
       "      <td>0</td>\n",
       "      <td>0</td>\n",
       "      <td>1</td>\n",
       "      <td>9.0</td>\n",
       "      <td>6.0</td>\n",
       "      <td>6.0</td>\n",
       "      <td>20</td>\n",
       "      <td>0</td>\n",
       "      <td>0</td>\n",
       "      <td>0</td>\n",
       "      <td>0</td>\n",
       "      <td>0</td>\n",
       "      <td>0</td>\n",
       "      <td>1</td>\n",
       "      <td>6</td>\n",
       "      <td>1</td>\n",
       "      <td>6</td>\n",
       "      <td>29</td>\n",
       "      <td>256</td>\n",
       "      <td>0</td>\n",
       "      <td>20</td>\n",
       "      <td>0.0</td>\n",
       "      <td>0.0</td>\n",
       "      <td>0</td>\n",
       "      <td>0</td>\n",
       "      <td>0.0</td>\n",
       "      <td>0.0</td>\n",
       "      <td>0</td>\n",
       "      <td>0</td>\n",
       "      <td>BENIGN</td>\n",
       "      <td>0</td>\n",
       "    </tr>\n",
       "    <tr>\n",
       "      <th>2</th>\n",
       "      <td>55055</td>\n",
       "      <td>52</td>\n",
       "      <td>1</td>\n",
       "      <td>1</td>\n",
       "      <td>6</td>\n",
       "      <td>6</td>\n",
       "      <td>6</td>\n",
       "      <td>6</td>\n",
       "      <td>6.0</td>\n",
       "      <td>0.0</td>\n",
       "      <td>6</td>\n",
       "      <td>6</td>\n",
       "      <td>6.0</td>\n",
       "      <td>0.0</td>\n",
       "      <td>2.307692e+05</td>\n",
       "      <td>38461.53846</td>\n",
       "      <td>52.0</td>\n",
       "      <td>0.0</td>\n",
       "      <td>52</td>\n",
       "      <td>52</td>\n",
       "      <td>0</td>\n",
       "      <td>0.0</td>\n",
       "      <td>0.0</td>\n",
       "      <td>0</td>\n",
       "      <td>0</td>\n",
       "      <td>0</td>\n",
       "      <td>0.0</td>\n",
       "      <td>0.0</td>\n",
       "      <td>0</td>\n",
       "      <td>0</td>\n",
       "      <td>0</td>\n",
       "      <td>0</td>\n",
       "      <td>0</td>\n",
       "      <td>0</td>\n",
       "      <td>20</td>\n",
       "      <td>20</td>\n",
       "      <td>19230.769230</td>\n",
       "      <td>19230.769230</td>\n",
       "      <td>6</td>\n",
       "      <td>6</td>\n",
       "      <td>6.0</td>\n",
       "      <td>0.0</td>\n",
       "      <td>0.0</td>\n",
       "      <td>0</td>\n",
       "      <td>0</td>\n",
       "      <td>0</td>\n",
       "      <td>0</td>\n",
       "      <td>1</td>\n",
       "      <td>1</td>\n",
       "      <td>0</td>\n",
       "      <td>0</td>\n",
       "      <td>1</td>\n",
       "      <td>9.0</td>\n",
       "      <td>6.0</td>\n",
       "      <td>6.0</td>\n",
       "      <td>20</td>\n",
       "      <td>0</td>\n",
       "      <td>0</td>\n",
       "      <td>0</td>\n",
       "      <td>0</td>\n",
       "      <td>0</td>\n",
       "      <td>0</td>\n",
       "      <td>1</td>\n",
       "      <td>6</td>\n",
       "      <td>1</td>\n",
       "      <td>6</td>\n",
       "      <td>29</td>\n",
       "      <td>256</td>\n",
       "      <td>0</td>\n",
       "      <td>20</td>\n",
       "      <td>0.0</td>\n",
       "      <td>0.0</td>\n",
       "      <td>0</td>\n",
       "      <td>0</td>\n",
       "      <td>0.0</td>\n",
       "      <td>0.0</td>\n",
       "      <td>0</td>\n",
       "      <td>0</td>\n",
       "      <td>BENIGN</td>\n",
       "      <td>0</td>\n",
       "    </tr>\n",
       "    <tr>\n",
       "      <th>3</th>\n",
       "      <td>46236</td>\n",
       "      <td>34</td>\n",
       "      <td>1</td>\n",
       "      <td>1</td>\n",
       "      <td>6</td>\n",
       "      <td>6</td>\n",
       "      <td>6</td>\n",
       "      <td>6</td>\n",
       "      <td>6.0</td>\n",
       "      <td>0.0</td>\n",
       "      <td>6</td>\n",
       "      <td>6</td>\n",
       "      <td>6.0</td>\n",
       "      <td>0.0</td>\n",
       "      <td>3.529412e+05</td>\n",
       "      <td>58823.52941</td>\n",
       "      <td>34.0</td>\n",
       "      <td>0.0</td>\n",
       "      <td>34</td>\n",
       "      <td>34</td>\n",
       "      <td>0</td>\n",
       "      <td>0.0</td>\n",
       "      <td>0.0</td>\n",
       "      <td>0</td>\n",
       "      <td>0</td>\n",
       "      <td>0</td>\n",
       "      <td>0.0</td>\n",
       "      <td>0.0</td>\n",
       "      <td>0</td>\n",
       "      <td>0</td>\n",
       "      <td>0</td>\n",
       "      <td>0</td>\n",
       "      <td>0</td>\n",
       "      <td>0</td>\n",
       "      <td>20</td>\n",
       "      <td>20</td>\n",
       "      <td>29411.764710</td>\n",
       "      <td>29411.764710</td>\n",
       "      <td>6</td>\n",
       "      <td>6</td>\n",
       "      <td>6.0</td>\n",
       "      <td>0.0</td>\n",
       "      <td>0.0</td>\n",
       "      <td>0</td>\n",
       "      <td>0</td>\n",
       "      <td>0</td>\n",
       "      <td>0</td>\n",
       "      <td>1</td>\n",
       "      <td>1</td>\n",
       "      <td>0</td>\n",
       "      <td>0</td>\n",
       "      <td>1</td>\n",
       "      <td>9.0</td>\n",
       "      <td>6.0</td>\n",
       "      <td>6.0</td>\n",
       "      <td>20</td>\n",
       "      <td>0</td>\n",
       "      <td>0</td>\n",
       "      <td>0</td>\n",
       "      <td>0</td>\n",
       "      <td>0</td>\n",
       "      <td>0</td>\n",
       "      <td>1</td>\n",
       "      <td>6</td>\n",
       "      <td>1</td>\n",
       "      <td>6</td>\n",
       "      <td>31</td>\n",
       "      <td>329</td>\n",
       "      <td>0</td>\n",
       "      <td>20</td>\n",
       "      <td>0.0</td>\n",
       "      <td>0.0</td>\n",
       "      <td>0</td>\n",
       "      <td>0</td>\n",
       "      <td>0.0</td>\n",
       "      <td>0.0</td>\n",
       "      <td>0</td>\n",
       "      <td>0</td>\n",
       "      <td>BENIGN</td>\n",
       "      <td>0</td>\n",
       "    </tr>\n",
       "    <tr>\n",
       "      <th>4</th>\n",
       "      <td>54863</td>\n",
       "      <td>3</td>\n",
       "      <td>2</td>\n",
       "      <td>0</td>\n",
       "      <td>12</td>\n",
       "      <td>0</td>\n",
       "      <td>6</td>\n",
       "      <td>6</td>\n",
       "      <td>6.0</td>\n",
       "      <td>0.0</td>\n",
       "      <td>0</td>\n",
       "      <td>0</td>\n",
       "      <td>0.0</td>\n",
       "      <td>0.0</td>\n",
       "      <td>4.000000e+06</td>\n",
       "      <td>666666.66670</td>\n",
       "      <td>3.0</td>\n",
       "      <td>0.0</td>\n",
       "      <td>3</td>\n",
       "      <td>3</td>\n",
       "      <td>3</td>\n",
       "      <td>3.0</td>\n",
       "      <td>0.0</td>\n",
       "      <td>3</td>\n",
       "      <td>3</td>\n",
       "      <td>0</td>\n",
       "      <td>0.0</td>\n",
       "      <td>0.0</td>\n",
       "      <td>0</td>\n",
       "      <td>0</td>\n",
       "      <td>0</td>\n",
       "      <td>0</td>\n",
       "      <td>0</td>\n",
       "      <td>0</td>\n",
       "      <td>40</td>\n",
       "      <td>0</td>\n",
       "      <td>666666.666700</td>\n",
       "      <td>0.000000</td>\n",
       "      <td>6</td>\n",
       "      <td>6</td>\n",
       "      <td>6.0</td>\n",
       "      <td>0.0</td>\n",
       "      <td>0.0</td>\n",
       "      <td>0</td>\n",
       "      <td>0</td>\n",
       "      <td>0</td>\n",
       "      <td>0</td>\n",
       "      <td>1</td>\n",
       "      <td>0</td>\n",
       "      <td>0</td>\n",
       "      <td>0</td>\n",
       "      <td>0</td>\n",
       "      <td>9.0</td>\n",
       "      <td>6.0</td>\n",
       "      <td>0.0</td>\n",
       "      <td>40</td>\n",
       "      <td>0</td>\n",
       "      <td>0</td>\n",
       "      <td>0</td>\n",
       "      <td>0</td>\n",
       "      <td>0</td>\n",
       "      <td>0</td>\n",
       "      <td>2</td>\n",
       "      <td>12</td>\n",
       "      <td>0</td>\n",
       "      <td>0</td>\n",
       "      <td>32</td>\n",
       "      <td>-1</td>\n",
       "      <td>1</td>\n",
       "      <td>20</td>\n",
       "      <td>0.0</td>\n",
       "      <td>0.0</td>\n",
       "      <td>0</td>\n",
       "      <td>0</td>\n",
       "      <td>0.0</td>\n",
       "      <td>0.0</td>\n",
       "      <td>0</td>\n",
       "      <td>0</td>\n",
       "      <td>BENIGN</td>\n",
       "      <td>0</td>\n",
       "    </tr>\n",
       "  </tbody>\n",
       "</table>\n",
       "</div>"
      ],
      "text/plain": [
       "   Destination_Port  Flow_Duration  Total_Fwd_Packets  Total_Backward_Packets   \n",
       "0             54865              3                  2                       0  \\\n",
       "1             55054            109                  1                       1   \n",
       "2             55055             52                  1                       1   \n",
       "3             46236             34                  1                       1   \n",
       "4             54863              3                  2                       0   \n",
       "\n",
       "   Total_Length_of_Fwd_Packets  Total_Length_of_Bwd_Packets   \n",
       "0                           12                            0  \\\n",
       "1                            6                            6   \n",
       "2                            6                            6   \n",
       "3                            6                            6   \n",
       "4                           12                            0   \n",
       "\n",
       "   Fwd_Packet_Length_Max  Fwd_Packet_Length_Min  Fwd_Packet_Length_Mean   \n",
       "0                      6                      6                     6.0  \\\n",
       "1                      6                      6                     6.0   \n",
       "2                      6                      6                     6.0   \n",
       "3                      6                      6                     6.0   \n",
       "4                      6                      6                     6.0   \n",
       "\n",
       "   Fwd_Packet_Length_Std  Bwd_Packet_Length_Max  Bwd_Packet_Length_Min   \n",
       "0                    0.0                      0                      0  \\\n",
       "1                    0.0                      6                      6   \n",
       "2                    0.0                      6                      6   \n",
       "3                    0.0                      6                      6   \n",
       "4                    0.0                      0                      0   \n",
       "\n",
       "   Bwd_Packet_Length_Mean  Bwd_Packet_Length_Std  Flow_Bytes_s   \n",
       "0                     0.0                    0.0  4.000000e+06  \\\n",
       "1                     6.0                    0.0  1.100917e+05   \n",
       "2                     6.0                    0.0  2.307692e+05   \n",
       "3                     6.0                    0.0  3.529412e+05   \n",
       "4                     0.0                    0.0  4.000000e+06   \n",
       "\n",
       "   Flow_Packets_s  Flow_IAT_Mean  Flow_IAT_Std  Flow_IAT_Max  Flow_IAT_Min   \n",
       "0    666666.66670            3.0           0.0             3             3  \\\n",
       "1     18348.62385          109.0           0.0           109           109   \n",
       "2     38461.53846           52.0           0.0            52            52   \n",
       "3     58823.52941           34.0           0.0            34            34   \n",
       "4    666666.66670            3.0           0.0             3             3   \n",
       "\n",
       "   Fwd_IAT_Total  Fwd_IAT_Mean  Fwd_IAT_Std  Fwd_IAT_Max  Fwd_IAT_Min   \n",
       "0              3           3.0          0.0            3            3  \\\n",
       "1              0           0.0          0.0            0            0   \n",
       "2              0           0.0          0.0            0            0   \n",
       "3              0           0.0          0.0            0            0   \n",
       "4              3           3.0          0.0            3            3   \n",
       "\n",
       "   Bwd_IAT_Total  Bwd_IAT_Mean  Bwd_IAT_Std  Bwd_IAT_Max  Bwd_IAT_Min   \n",
       "0              0           0.0          0.0            0            0  \\\n",
       "1              0           0.0          0.0            0            0   \n",
       "2              0           0.0          0.0            0            0   \n",
       "3              0           0.0          0.0            0            0   \n",
       "4              0           0.0          0.0            0            0   \n",
       "\n",
       "   Fwd_PSH_Flags  Bwd_PSH_Flags  Fwd_URG_Flags  Bwd_URG_Flags   \n",
       "0              0              0              0              0  \\\n",
       "1              0              0              0              0   \n",
       "2              0              0              0              0   \n",
       "3              0              0              0              0   \n",
       "4              0              0              0              0   \n",
       "\n",
       "   Fwd_Header_Length  Bwd_Header_Length  Fwd_Packets_s  Bwd_Packets_s   \n",
       "0                 40                  0  666666.666700       0.000000  \\\n",
       "1                 20                 20    9174.311927    9174.311927   \n",
       "2                 20                 20   19230.769230   19230.769230   \n",
       "3                 20                 20   29411.764710   29411.764710   \n",
       "4                 40                  0  666666.666700       0.000000   \n",
       "\n",
       "   Min_Packet_Length  Max_Packet_Length  Packet_Length_Mean   \n",
       "0                  6                  6                 6.0  \\\n",
       "1                  6                  6                 6.0   \n",
       "2                  6                  6                 6.0   \n",
       "3                  6                  6                 6.0   \n",
       "4                  6                  6                 6.0   \n",
       "\n",
       "   Packet_Length_Std  Packet_Length_Variance  FIN_Flag_Count  SYN_Flag_Count   \n",
       "0                0.0                     0.0               0               0  \\\n",
       "1                0.0                     0.0               0               0   \n",
       "2                0.0                     0.0               0               0   \n",
       "3                0.0                     0.0               0               0   \n",
       "4                0.0                     0.0               0               0   \n",
       "\n",
       "   RST_Flag_Count  PSH_Flag_Count  ACK_Flag_Count  URG_Flag_Count   \n",
       "0               0               0               1               0  \\\n",
       "1               0               0               1               1   \n",
       "2               0               0               1               1   \n",
       "3               0               0               1               1   \n",
       "4               0               0               1               0   \n",
       "\n",
       "   CWE_Flag_Count  ECE_Flag_Count  Down/Up_Ratio  Average_Packet_Size   \n",
       "0               0               0              0                  9.0  \\\n",
       "1               0               0              1                  9.0   \n",
       "2               0               0              1                  9.0   \n",
       "3               0               0              1                  9.0   \n",
       "4               0               0              0                  9.0   \n",
       "\n",
       "   Avg_Fwd_Segment_Size  Avg_Bwd_Segment_Size  Fwd_Header_Length1   \n",
       "0                   6.0                   0.0                  40  \\\n",
       "1                   6.0                   6.0                  20   \n",
       "2                   6.0                   6.0                  20   \n",
       "3                   6.0                   6.0                  20   \n",
       "4                   6.0                   0.0                  40   \n",
       "\n",
       "   Fwd_Avg_Bytes/Bulk  Fwd_Avg_Packets/Bulk  Fwd_Avg_Bulk_Rate   \n",
       "0                   0                     0                  0  \\\n",
       "1                   0                     0                  0   \n",
       "2                   0                     0                  0   \n",
       "3                   0                     0                  0   \n",
       "4                   0                     0                  0   \n",
       "\n",
       "   Bwd_Avg_Bytes/Bulk  Bwd_Avg_Packets/Bulk  Bwd_Avg_Bulk_Rate   \n",
       "0                   0                     0                  0  \\\n",
       "1                   0                     0                  0   \n",
       "2                   0                     0                  0   \n",
       "3                   0                     0                  0   \n",
       "4                   0                     0                  0   \n",
       "\n",
       "   Subflow_Fwd_Packets  Subflow_Fwd_Bytes  Subflow_Bwd_Packets   \n",
       "0                    2                 12                    0  \\\n",
       "1                    1                  6                    1   \n",
       "2                    1                  6                    1   \n",
       "3                    1                  6                    1   \n",
       "4                    2                 12                    0   \n",
       "\n",
       "   Subflow_Bwd_Bytes  Init_Win_bytes_forward  Init_Win_bytes_backward   \n",
       "0                  0                      33                       -1  \\\n",
       "1                  6                      29                      256   \n",
       "2                  6                      29                      256   \n",
       "3                  6                      31                      329   \n",
       "4                  0                      32                       -1   \n",
       "\n",
       "   act_data_pkt_fwd  min_seg_size_forward  Active_Mean  Active_Std   \n",
       "0                 1                    20          0.0         0.0  \\\n",
       "1                 0                    20          0.0         0.0   \n",
       "2                 0                    20          0.0         0.0   \n",
       "3                 0                    20          0.0         0.0   \n",
       "4                 1                    20          0.0         0.0   \n",
       "\n",
       "   Active_Max  Active_Min  Idle_Mean  Idle_Std  Idle_Max  Idle_Min   Label   \n",
       "0           0           0        0.0       0.0         0         0  BENIGN  \\\n",
       "1           0           0        0.0       0.0         0         0  BENIGN   \n",
       "2           0           0        0.0       0.0         0         0  BENIGN   \n",
       "3           0           0        0.0       0.0         0         0  BENIGN   \n",
       "4           0           0        0.0       0.0         0         0  BENIGN   \n",
       "\n",
       "   Target  \n",
       "0       0  \n",
       "1       0  \n",
       "2       0  \n",
       "3       0  \n",
       "4       0  "
      ]
     },
     "execution_count": 26,
     "metadata": {},
     "output_type": "execute_result"
    }
   ],
   "source": [
    "df.head()"
   ]
  },
  {
   "cell_type": "code",
   "execution_count": 27,
   "id": "aaeec5d4",
   "metadata": {
    "scrolled": true
   },
   "outputs": [
    {
     "name": "stdout",
     "output_type": "stream",
     "text": [
      "(225745, 80)\n",
      "Destination_Port               0\n",
      "Flow_Duration                  0\n",
      "Total_Fwd_Packets              0\n",
      "Total_Backward_Packets         0\n",
      "Total_Length_of_Fwd_Packets    0\n",
      "Total_Length_of_Bwd_Packets    0\n",
      "Fwd_Packet_Length_Max          0\n",
      "Fwd_Packet_Length_Min          0\n",
      "Fwd_Packet_Length_Mean         0\n",
      "Fwd_Packet_Length_Std          0\n",
      "Bwd_Packet_Length_Max          0\n",
      "Bwd_Packet_Length_Min          0\n",
      "Bwd_Packet_Length_Mean         0\n",
      "Bwd_Packet_Length_Std          0\n",
      "Flow_Bytes_s                   0\n",
      "Flow_Packets_s                 0\n",
      "Flow_IAT_Mean                  0\n",
      "Flow_IAT_Std                   0\n",
      "Flow_IAT_Max                   0\n",
      "Flow_IAT_Min                   0\n",
      "Fwd_IAT_Total                  0\n",
      "Fwd_IAT_Mean                   0\n",
      "Fwd_IAT_Std                    0\n",
      "Fwd_IAT_Max                    0\n",
      "Fwd_IAT_Min                    0\n",
      "Bwd_IAT_Total                  0\n",
      "Bwd_IAT_Mean                   0\n",
      "Bwd_IAT_Std                    0\n",
      "Bwd_IAT_Max                    0\n",
      "Bwd_IAT_Min                    0\n",
      "Fwd_PSH_Flags                  0\n",
      "Bwd_PSH_Flags                  0\n",
      "Fwd_URG_Flags                  0\n",
      "Bwd_URG_Flags                  0\n",
      "Fwd_Header_Length              0\n",
      "Bwd_Header_Length              0\n",
      "Fwd_Packets_s                  0\n",
      "Bwd_Packets_s                  0\n",
      "Min_Packet_Length              0\n",
      "Max_Packet_Length              0\n",
      "Packet_Length_Mean             0\n",
      "Packet_Length_Std              0\n",
      "Packet_Length_Variance         0\n",
      "FIN_Flag_Count                 0\n",
      "SYN_Flag_Count                 0\n",
      "RST_Flag_Count                 0\n",
      "PSH_Flag_Count                 0\n",
      "ACK_Flag_Count                 0\n",
      "URG_Flag_Count                 0\n",
      "CWE_Flag_Count                 0\n",
      "ECE_Flag_Count                 0\n",
      "Down/Up_Ratio                  0\n",
      "Average_Packet_Size            0\n",
      "Avg_Fwd_Segment_Size           0\n",
      "Avg_Bwd_Segment_Size           0\n",
      "Fwd_Header_Length1             0\n",
      "Fwd_Avg_Bytes/Bulk             0\n",
      "Fwd_Avg_Packets/Bulk           0\n",
      "Fwd_Avg_Bulk_Rate              0\n",
      "Bwd_Avg_Bytes/Bulk             0\n",
      "Bwd_Avg_Packets/Bulk           0\n",
      "Bwd_Avg_Bulk_Rate              0\n",
      "Subflow_Fwd_Packets            0\n",
      "Subflow_Fwd_Bytes              0\n",
      "Subflow_Bwd_Packets            0\n",
      "Subflow_Bwd_Bytes              0\n",
      "Init_Win_bytes_forward         0\n",
      "Init_Win_bytes_backward        0\n",
      "act_data_pkt_fwd               0\n",
      "min_seg_size_forward           0\n",
      "Active_Mean                    0\n",
      "Active_Std                     0\n",
      "Active_Max                     0\n",
      "Active_Min                     0\n",
      "Idle_Mean                      0\n",
      "Idle_Std                       0\n",
      "Idle_Max                       0\n",
      "Idle_Min                       0\n",
      "Label                          0\n",
      "Target                         0\n",
      "dtype: int64\n",
      "\n",
      "Destination_Port               0\n",
      "Flow_Duration                  0\n",
      "Total_Fwd_Packets              0\n",
      "Total_Backward_Packets         0\n",
      "Total_Length_of_Fwd_Packets    0\n",
      "Total_Length_of_Bwd_Packets    0\n",
      "Fwd_Packet_Length_Max          0\n",
      "Fwd_Packet_Length_Min          0\n",
      "Fwd_Packet_Length_Mean         0\n",
      "Fwd_Packet_Length_Std          0\n",
      "Bwd_Packet_Length_Max          0\n",
      "Bwd_Packet_Length_Min          0\n",
      "Bwd_Packet_Length_Mean         0\n",
      "Bwd_Packet_Length_Std          0\n",
      "Flow_Bytes_s                   0\n",
      "Flow_Packets_s                 0\n",
      "Flow_IAT_Mean                  0\n",
      "Flow_IAT_Std                   0\n",
      "Flow_IAT_Max                   0\n",
      "Flow_IAT_Min                   0\n",
      "Fwd_IAT_Total                  0\n",
      "Fwd_IAT_Mean                   0\n",
      "Fwd_IAT_Std                    0\n",
      "Fwd_IAT_Max                    0\n",
      "Fwd_IAT_Min                    0\n",
      "Bwd_IAT_Total                  0\n",
      "Bwd_IAT_Mean                   0\n",
      "Bwd_IAT_Std                    0\n",
      "Bwd_IAT_Max                    0\n",
      "Bwd_IAT_Min                    0\n",
      "Fwd_PSH_Flags                  0\n",
      "Bwd_PSH_Flags                  0\n",
      "Fwd_URG_Flags                  0\n",
      "Bwd_URG_Flags                  0\n",
      "Fwd_Header_Length              0\n",
      "Bwd_Header_Length              0\n",
      "Fwd_Packets_s                  0\n",
      "Bwd_Packets_s                  0\n",
      "Min_Packet_Length              0\n",
      "Max_Packet_Length              0\n",
      "Packet_Length_Mean             0\n",
      "Packet_Length_Std              0\n",
      "Packet_Length_Variance         0\n",
      "FIN_Flag_Count                 0\n",
      "SYN_Flag_Count                 0\n",
      "RST_Flag_Count                 0\n",
      "PSH_Flag_Count                 0\n",
      "ACK_Flag_Count                 0\n",
      "URG_Flag_Count                 0\n",
      "CWE_Flag_Count                 0\n",
      "ECE_Flag_Count                 0\n",
      "Down/Up_Ratio                  0\n",
      "Average_Packet_Size            0\n",
      "Avg_Fwd_Segment_Size           0\n",
      "Avg_Bwd_Segment_Size           0\n",
      "Fwd_Header_Length1             0\n",
      "Fwd_Avg_Bytes/Bulk             0\n",
      "Fwd_Avg_Packets/Bulk           0\n",
      "Fwd_Avg_Bulk_Rate              0\n",
      "Bwd_Avg_Bytes/Bulk             0\n",
      "Bwd_Avg_Packets/Bulk           0\n",
      "Bwd_Avg_Bulk_Rate              0\n",
      "Subflow_Fwd_Packets            0\n",
      "Subflow_Fwd_Bytes              0\n",
      "Subflow_Bwd_Packets            0\n",
      "Subflow_Bwd_Bytes              0\n",
      "Init_Win_bytes_forward         0\n",
      "Init_Win_bytes_backward        0\n",
      "act_data_pkt_fwd               0\n",
      "min_seg_size_forward           0\n",
      "Active_Mean                    0\n",
      "Active_Std                     0\n",
      "Active_Max                     0\n",
      "Active_Min                     0\n",
      "Idle_Mean                      0\n",
      "Idle_Std                       0\n",
      "Idle_Max                       0\n",
      "Idle_Min                       0\n",
      "Label                          0\n",
      "Target                         0\n",
      "dtype: int64\n"
     ]
    }
   ],
   "source": [
    "print(df.shape)\n",
    "print(df.isna().sum())\n",
    "print()\n",
    "print(df.isin([np.inf, -np.inf]).sum())"
   ]
  },
  {
   "cell_type": "code",
   "execution_count": 28,
   "id": "987ebf34",
   "metadata": {},
   "outputs": [],
   "source": [
    "features = np.float32(df.loc[:, ~df.columns.isin(['Flow_ID', 'Source_IP', 'Destination_IP', 'Timestamp', 'Label', 'Target'])].copy().values) #reduce memory usage\n",
    "label = df.loc[:, df.columns.isin(['Target'])].copy().values.ravel()"
   ]
  },
  {
   "cell_type": "code",
   "execution_count": 29,
   "id": "d54905bf",
   "metadata": {},
   "outputs": [
    {
     "ename": "KeyboardInterrupt",
     "evalue": "",
     "output_type": "error",
     "traceback": [
      "\u001b[1;31m---------------------------------------------------------------------------\u001b[0m",
      "\u001b[1;31mKeyboardInterrupt\u001b[0m                         Traceback (most recent call last)",
      "Cell \u001b[1;32mIn[29], line 5\u001b[0m\n\u001b[0;32m      3\u001b[0m \u001b[39m# Train a random forest classifier on the dataset\u001b[39;00m\n\u001b[0;32m      4\u001b[0m forest \u001b[39m=\u001b[39m RandomForestClassifier(n_estimators \u001b[39m=\u001b[39m \u001b[39m100\u001b[39m, random_state\u001b[39m=\u001b[39m\u001b[39m42\u001b[39m)\n\u001b[1;32m----> 5\u001b[0m forest\u001b[39m.\u001b[39;49mfit(features, label)\n\u001b[0;32m      7\u001b[0m \u001b[39m# Get the feature importances and sort them in descending order\u001b[39;00m\n\u001b[0;32m      8\u001b[0m importances \u001b[39m=\u001b[39m forest\u001b[39m.\u001b[39mfeature_importances_\n",
      "File \u001b[1;32mc:\\Users\\jonth\\AppData\\Local\\Programs\\Python\\Python311\\Lib\\site-packages\\sklearn\\ensemble\\_forest.py:473\u001b[0m, in \u001b[0;36mBaseForest.fit\u001b[1;34m(self, X, y, sample_weight)\u001b[0m\n\u001b[0;32m    462\u001b[0m trees \u001b[39m=\u001b[39m [\n\u001b[0;32m    463\u001b[0m     \u001b[39mself\u001b[39m\u001b[39m.\u001b[39m_make_estimator(append\u001b[39m=\u001b[39m\u001b[39mFalse\u001b[39;00m, random_state\u001b[39m=\u001b[39mrandom_state)\n\u001b[0;32m    464\u001b[0m     \u001b[39mfor\u001b[39;00m i \u001b[39min\u001b[39;00m \u001b[39mrange\u001b[39m(n_more_estimators)\n\u001b[0;32m    465\u001b[0m ]\n\u001b[0;32m    467\u001b[0m \u001b[39m# Parallel loop: we prefer the threading backend as the Cython code\u001b[39;00m\n\u001b[0;32m    468\u001b[0m \u001b[39m# for fitting the trees is internally releasing the Python GIL\u001b[39;00m\n\u001b[0;32m    469\u001b[0m \u001b[39m# making threading more efficient than multiprocessing in\u001b[39;00m\n\u001b[0;32m    470\u001b[0m \u001b[39m# that case. However, for joblib 0.12+ we respect any\u001b[39;00m\n\u001b[0;32m    471\u001b[0m \u001b[39m# parallel_backend contexts set at a higher level,\u001b[39;00m\n\u001b[0;32m    472\u001b[0m \u001b[39m# since correctness does not rely on using threads.\u001b[39;00m\n\u001b[1;32m--> 473\u001b[0m trees \u001b[39m=\u001b[39m Parallel(\n\u001b[0;32m    474\u001b[0m     n_jobs\u001b[39m=\u001b[39;49m\u001b[39mself\u001b[39;49m\u001b[39m.\u001b[39;49mn_jobs,\n\u001b[0;32m    475\u001b[0m     verbose\u001b[39m=\u001b[39;49m\u001b[39mself\u001b[39;49m\u001b[39m.\u001b[39;49mverbose,\n\u001b[0;32m    476\u001b[0m     prefer\u001b[39m=\u001b[39;49m\u001b[39m\"\u001b[39;49m\u001b[39mthreads\u001b[39;49m\u001b[39m\"\u001b[39;49m,\n\u001b[0;32m    477\u001b[0m )(\n\u001b[0;32m    478\u001b[0m     delayed(_parallel_build_trees)(\n\u001b[0;32m    479\u001b[0m         t,\n\u001b[0;32m    480\u001b[0m         \u001b[39mself\u001b[39;49m\u001b[39m.\u001b[39;49mbootstrap,\n\u001b[0;32m    481\u001b[0m         X,\n\u001b[0;32m    482\u001b[0m         y,\n\u001b[0;32m    483\u001b[0m         sample_weight,\n\u001b[0;32m    484\u001b[0m         i,\n\u001b[0;32m    485\u001b[0m         \u001b[39mlen\u001b[39;49m(trees),\n\u001b[0;32m    486\u001b[0m         verbose\u001b[39m=\u001b[39;49m\u001b[39mself\u001b[39;49m\u001b[39m.\u001b[39;49mverbose,\n\u001b[0;32m    487\u001b[0m         class_weight\u001b[39m=\u001b[39;49m\u001b[39mself\u001b[39;49m\u001b[39m.\u001b[39;49mclass_weight,\n\u001b[0;32m    488\u001b[0m         n_samples_bootstrap\u001b[39m=\u001b[39;49mn_samples_bootstrap,\n\u001b[0;32m    489\u001b[0m     )\n\u001b[0;32m    490\u001b[0m     \u001b[39mfor\u001b[39;49;00m i, t \u001b[39min\u001b[39;49;00m \u001b[39menumerate\u001b[39;49m(trees)\n\u001b[0;32m    491\u001b[0m )\n\u001b[0;32m    493\u001b[0m \u001b[39m# Collect newly grown trees\u001b[39;00m\n\u001b[0;32m    494\u001b[0m \u001b[39mself\u001b[39m\u001b[39m.\u001b[39mestimators_\u001b[39m.\u001b[39mextend(trees)\n",
      "File \u001b[1;32mc:\\Users\\jonth\\AppData\\Local\\Programs\\Python\\Python311\\Lib\\site-packages\\sklearn\\utils\\parallel.py:63\u001b[0m, in \u001b[0;36mParallel.__call__\u001b[1;34m(self, iterable)\u001b[0m\n\u001b[0;32m     58\u001b[0m config \u001b[39m=\u001b[39m get_config()\n\u001b[0;32m     59\u001b[0m iterable_with_config \u001b[39m=\u001b[39m (\n\u001b[0;32m     60\u001b[0m     (_with_config(delayed_func, config), args, kwargs)\n\u001b[0;32m     61\u001b[0m     \u001b[39mfor\u001b[39;00m delayed_func, args, kwargs \u001b[39min\u001b[39;00m iterable\n\u001b[0;32m     62\u001b[0m )\n\u001b[1;32m---> 63\u001b[0m \u001b[39mreturn\u001b[39;00m \u001b[39msuper\u001b[39;49m()\u001b[39m.\u001b[39;49m\u001b[39m__call__\u001b[39;49m(iterable_with_config)\n",
      "File \u001b[1;32mc:\\Users\\jonth\\AppData\\Local\\Programs\\Python\\Python311\\Lib\\site-packages\\joblib\\parallel.py:1088\u001b[0m, in \u001b[0;36mParallel.__call__\u001b[1;34m(self, iterable)\u001b[0m\n\u001b[0;32m   1085\u001b[0m \u001b[39mif\u001b[39;00m \u001b[39mself\u001b[39m\u001b[39m.\u001b[39mdispatch_one_batch(iterator):\n\u001b[0;32m   1086\u001b[0m     \u001b[39mself\u001b[39m\u001b[39m.\u001b[39m_iterating \u001b[39m=\u001b[39m \u001b[39mself\u001b[39m\u001b[39m.\u001b[39m_original_iterator \u001b[39mis\u001b[39;00m \u001b[39mnot\u001b[39;00m \u001b[39mNone\u001b[39;00m\n\u001b[1;32m-> 1088\u001b[0m \u001b[39mwhile\u001b[39;00m \u001b[39mself\u001b[39;49m\u001b[39m.\u001b[39;49mdispatch_one_batch(iterator):\n\u001b[0;32m   1089\u001b[0m     \u001b[39mpass\u001b[39;00m\n\u001b[0;32m   1091\u001b[0m \u001b[39mif\u001b[39;00m pre_dispatch \u001b[39m==\u001b[39m \u001b[39m\"\u001b[39m\u001b[39mall\u001b[39m\u001b[39m\"\u001b[39m \u001b[39mor\u001b[39;00m n_jobs \u001b[39m==\u001b[39m \u001b[39m1\u001b[39m:\n\u001b[0;32m   1092\u001b[0m     \u001b[39m# The iterable was consumed all at once by the above for loop.\u001b[39;00m\n\u001b[0;32m   1093\u001b[0m     \u001b[39m# No need to wait for async callbacks to trigger to\u001b[39;00m\n\u001b[0;32m   1094\u001b[0m     \u001b[39m# consumption.\u001b[39;00m\n",
      "File \u001b[1;32mc:\\Users\\jonth\\AppData\\Local\\Programs\\Python\\Python311\\Lib\\site-packages\\joblib\\parallel.py:901\u001b[0m, in \u001b[0;36mParallel.dispatch_one_batch\u001b[1;34m(self, iterator)\u001b[0m\n\u001b[0;32m    899\u001b[0m     \u001b[39mreturn\u001b[39;00m \u001b[39mFalse\u001b[39;00m\n\u001b[0;32m    900\u001b[0m \u001b[39melse\u001b[39;00m:\n\u001b[1;32m--> 901\u001b[0m     \u001b[39mself\u001b[39;49m\u001b[39m.\u001b[39;49m_dispatch(tasks)\n\u001b[0;32m    902\u001b[0m     \u001b[39mreturn\u001b[39;00m \u001b[39mTrue\u001b[39;00m\n",
      "File \u001b[1;32mc:\\Users\\jonth\\AppData\\Local\\Programs\\Python\\Python311\\Lib\\site-packages\\joblib\\parallel.py:819\u001b[0m, in \u001b[0;36mParallel._dispatch\u001b[1;34m(self, batch)\u001b[0m\n\u001b[0;32m    817\u001b[0m \u001b[39mwith\u001b[39;00m \u001b[39mself\u001b[39m\u001b[39m.\u001b[39m_lock:\n\u001b[0;32m    818\u001b[0m     job_idx \u001b[39m=\u001b[39m \u001b[39mlen\u001b[39m(\u001b[39mself\u001b[39m\u001b[39m.\u001b[39m_jobs)\n\u001b[1;32m--> 819\u001b[0m     job \u001b[39m=\u001b[39m \u001b[39mself\u001b[39;49m\u001b[39m.\u001b[39;49m_backend\u001b[39m.\u001b[39;49mapply_async(batch, callback\u001b[39m=\u001b[39;49mcb)\n\u001b[0;32m    820\u001b[0m     \u001b[39m# A job can complete so quickly than its callback is\u001b[39;00m\n\u001b[0;32m    821\u001b[0m     \u001b[39m# called before we get here, causing self._jobs to\u001b[39;00m\n\u001b[0;32m    822\u001b[0m     \u001b[39m# grow. To ensure correct results ordering, .insert is\u001b[39;00m\n\u001b[0;32m    823\u001b[0m     \u001b[39m# used (rather than .append) in the following line\u001b[39;00m\n\u001b[0;32m    824\u001b[0m     \u001b[39mself\u001b[39m\u001b[39m.\u001b[39m_jobs\u001b[39m.\u001b[39minsert(job_idx, job)\n",
      "File \u001b[1;32mc:\\Users\\jonth\\AppData\\Local\\Programs\\Python\\Python311\\Lib\\site-packages\\joblib\\_parallel_backends.py:208\u001b[0m, in \u001b[0;36mSequentialBackend.apply_async\u001b[1;34m(self, func, callback)\u001b[0m\n\u001b[0;32m    206\u001b[0m \u001b[39mdef\u001b[39;00m \u001b[39mapply_async\u001b[39m(\u001b[39mself\u001b[39m, func, callback\u001b[39m=\u001b[39m\u001b[39mNone\u001b[39;00m):\n\u001b[0;32m    207\u001b[0m \u001b[39m    \u001b[39m\u001b[39m\"\"\"Schedule a func to be run\"\"\"\u001b[39;00m\n\u001b[1;32m--> 208\u001b[0m     result \u001b[39m=\u001b[39m ImmediateResult(func)\n\u001b[0;32m    209\u001b[0m     \u001b[39mif\u001b[39;00m callback:\n\u001b[0;32m    210\u001b[0m         callback(result)\n",
      "File \u001b[1;32mc:\\Users\\jonth\\AppData\\Local\\Programs\\Python\\Python311\\Lib\\site-packages\\joblib\\_parallel_backends.py:597\u001b[0m, in \u001b[0;36mImmediateResult.__init__\u001b[1;34m(self, batch)\u001b[0m\n\u001b[0;32m    594\u001b[0m \u001b[39mdef\u001b[39;00m \u001b[39m__init__\u001b[39m(\u001b[39mself\u001b[39m, batch):\n\u001b[0;32m    595\u001b[0m     \u001b[39m# Don't delay the application, to avoid keeping the input\u001b[39;00m\n\u001b[0;32m    596\u001b[0m     \u001b[39m# arguments in memory\u001b[39;00m\n\u001b[1;32m--> 597\u001b[0m     \u001b[39mself\u001b[39m\u001b[39m.\u001b[39mresults \u001b[39m=\u001b[39m batch()\n",
      "File \u001b[1;32mc:\\Users\\jonth\\AppData\\Local\\Programs\\Python\\Python311\\Lib\\site-packages\\joblib\\parallel.py:288\u001b[0m, in \u001b[0;36mBatchedCalls.__call__\u001b[1;34m(self)\u001b[0m\n\u001b[0;32m    284\u001b[0m \u001b[39mdef\u001b[39;00m \u001b[39m__call__\u001b[39m(\u001b[39mself\u001b[39m):\n\u001b[0;32m    285\u001b[0m     \u001b[39m# Set the default nested backend to self._backend but do not set the\u001b[39;00m\n\u001b[0;32m    286\u001b[0m     \u001b[39m# change the default number of processes to -1\u001b[39;00m\n\u001b[0;32m    287\u001b[0m     \u001b[39mwith\u001b[39;00m parallel_backend(\u001b[39mself\u001b[39m\u001b[39m.\u001b[39m_backend, n_jobs\u001b[39m=\u001b[39m\u001b[39mself\u001b[39m\u001b[39m.\u001b[39m_n_jobs):\n\u001b[1;32m--> 288\u001b[0m         \u001b[39mreturn\u001b[39;00m [func(\u001b[39m*\u001b[39;49margs, \u001b[39m*\u001b[39;49m\u001b[39m*\u001b[39;49mkwargs)\n\u001b[0;32m    289\u001b[0m                 \u001b[39mfor\u001b[39;49;00m func, args, kwargs \u001b[39min\u001b[39;49;00m \u001b[39mself\u001b[39;49m\u001b[39m.\u001b[39;49mitems]\n",
      "File \u001b[1;32mc:\\Users\\jonth\\AppData\\Local\\Programs\\Python\\Python311\\Lib\\site-packages\\joblib\\parallel.py:288\u001b[0m, in \u001b[0;36m<listcomp>\u001b[1;34m(.0)\u001b[0m\n\u001b[0;32m    284\u001b[0m \u001b[39mdef\u001b[39;00m \u001b[39m__call__\u001b[39m(\u001b[39mself\u001b[39m):\n\u001b[0;32m    285\u001b[0m     \u001b[39m# Set the default nested backend to self._backend but do not set the\u001b[39;00m\n\u001b[0;32m    286\u001b[0m     \u001b[39m# change the default number of processes to -1\u001b[39;00m\n\u001b[0;32m    287\u001b[0m     \u001b[39mwith\u001b[39;00m parallel_backend(\u001b[39mself\u001b[39m\u001b[39m.\u001b[39m_backend, n_jobs\u001b[39m=\u001b[39m\u001b[39mself\u001b[39m\u001b[39m.\u001b[39m_n_jobs):\n\u001b[1;32m--> 288\u001b[0m         \u001b[39mreturn\u001b[39;00m [func(\u001b[39m*\u001b[39;49margs, \u001b[39m*\u001b[39;49m\u001b[39m*\u001b[39;49mkwargs)\n\u001b[0;32m    289\u001b[0m                 \u001b[39mfor\u001b[39;00m func, args, kwargs \u001b[39min\u001b[39;00m \u001b[39mself\u001b[39m\u001b[39m.\u001b[39mitems]\n",
      "File \u001b[1;32mc:\\Users\\jonth\\AppData\\Local\\Programs\\Python\\Python311\\Lib\\site-packages\\sklearn\\utils\\parallel.py:123\u001b[0m, in \u001b[0;36m_FuncWrapper.__call__\u001b[1;34m(self, *args, **kwargs)\u001b[0m\n\u001b[0;32m    121\u001b[0m     config \u001b[39m=\u001b[39m {}\n\u001b[0;32m    122\u001b[0m \u001b[39mwith\u001b[39;00m config_context(\u001b[39m*\u001b[39m\u001b[39m*\u001b[39mconfig):\n\u001b[1;32m--> 123\u001b[0m     \u001b[39mreturn\u001b[39;00m \u001b[39mself\u001b[39;49m\u001b[39m.\u001b[39;49mfunction(\u001b[39m*\u001b[39;49margs, \u001b[39m*\u001b[39;49m\u001b[39m*\u001b[39;49mkwargs)\n",
      "File \u001b[1;32mc:\\Users\\jonth\\AppData\\Local\\Programs\\Python\\Python311\\Lib\\site-packages\\sklearn\\ensemble\\_forest.py:184\u001b[0m, in \u001b[0;36m_parallel_build_trees\u001b[1;34m(tree, bootstrap, X, y, sample_weight, tree_idx, n_trees, verbose, class_weight, n_samples_bootstrap)\u001b[0m\n\u001b[0;32m    181\u001b[0m     \u001b[39melif\u001b[39;00m class_weight \u001b[39m==\u001b[39m \u001b[39m\"\u001b[39m\u001b[39mbalanced_subsample\u001b[39m\u001b[39m\"\u001b[39m:\n\u001b[0;32m    182\u001b[0m         curr_sample_weight \u001b[39m*\u001b[39m\u001b[39m=\u001b[39m compute_sample_weight(\u001b[39m\"\u001b[39m\u001b[39mbalanced\u001b[39m\u001b[39m\"\u001b[39m, y, indices\u001b[39m=\u001b[39mindices)\n\u001b[1;32m--> 184\u001b[0m     tree\u001b[39m.\u001b[39;49mfit(X, y, sample_weight\u001b[39m=\u001b[39;49mcurr_sample_weight, check_input\u001b[39m=\u001b[39;49m\u001b[39mFalse\u001b[39;49;00m)\n\u001b[0;32m    185\u001b[0m \u001b[39melse\u001b[39;00m:\n\u001b[0;32m    186\u001b[0m     tree\u001b[39m.\u001b[39mfit(X, y, sample_weight\u001b[39m=\u001b[39msample_weight, check_input\u001b[39m=\u001b[39m\u001b[39mFalse\u001b[39;00m)\n",
      "File \u001b[1;32mc:\\Users\\jonth\\AppData\\Local\\Programs\\Python\\Python311\\Lib\\site-packages\\sklearn\\tree\\_classes.py:889\u001b[0m, in \u001b[0;36mDecisionTreeClassifier.fit\u001b[1;34m(self, X, y, sample_weight, check_input)\u001b[0m\n\u001b[0;32m    859\u001b[0m \u001b[39mdef\u001b[39;00m \u001b[39mfit\u001b[39m(\u001b[39mself\u001b[39m, X, y, sample_weight\u001b[39m=\u001b[39m\u001b[39mNone\u001b[39;00m, check_input\u001b[39m=\u001b[39m\u001b[39mTrue\u001b[39;00m):\n\u001b[0;32m    860\u001b[0m \u001b[39m    \u001b[39m\u001b[39m\"\"\"Build a decision tree classifier from the training set (X, y).\u001b[39;00m\n\u001b[0;32m    861\u001b[0m \n\u001b[0;32m    862\u001b[0m \u001b[39m    Parameters\u001b[39;00m\n\u001b[1;32m   (...)\u001b[0m\n\u001b[0;32m    886\u001b[0m \u001b[39m        Fitted estimator.\u001b[39;00m\n\u001b[0;32m    887\u001b[0m \u001b[39m    \"\"\"\u001b[39;00m\n\u001b[1;32m--> 889\u001b[0m     \u001b[39msuper\u001b[39;49m()\u001b[39m.\u001b[39;49mfit(\n\u001b[0;32m    890\u001b[0m         X,\n\u001b[0;32m    891\u001b[0m         y,\n\u001b[0;32m    892\u001b[0m         sample_weight\u001b[39m=\u001b[39;49msample_weight,\n\u001b[0;32m    893\u001b[0m         check_input\u001b[39m=\u001b[39;49mcheck_input,\n\u001b[0;32m    894\u001b[0m     )\n\u001b[0;32m    895\u001b[0m     \u001b[39mreturn\u001b[39;00m \u001b[39mself\u001b[39m\n",
      "File \u001b[1;32mc:\\Users\\jonth\\AppData\\Local\\Programs\\Python\\Python311\\Lib\\site-packages\\sklearn\\tree\\_classes.py:379\u001b[0m, in \u001b[0;36mBaseDecisionTree.fit\u001b[1;34m(self, X, y, sample_weight, check_input)\u001b[0m\n\u001b[0;32m    368\u001b[0m \u001b[39melse\u001b[39;00m:\n\u001b[0;32m    369\u001b[0m     builder \u001b[39m=\u001b[39m BestFirstTreeBuilder(\n\u001b[0;32m    370\u001b[0m         splitter,\n\u001b[0;32m    371\u001b[0m         min_samples_split,\n\u001b[1;32m   (...)\u001b[0m\n\u001b[0;32m    376\u001b[0m         \u001b[39mself\u001b[39m\u001b[39m.\u001b[39mmin_impurity_decrease,\n\u001b[0;32m    377\u001b[0m     )\n\u001b[1;32m--> 379\u001b[0m builder\u001b[39m.\u001b[39;49mbuild(\u001b[39mself\u001b[39;49m\u001b[39m.\u001b[39;49mtree_, X, y, sample_weight)\n\u001b[0;32m    381\u001b[0m \u001b[39mif\u001b[39;00m \u001b[39mself\u001b[39m\u001b[39m.\u001b[39mn_outputs_ \u001b[39m==\u001b[39m \u001b[39m1\u001b[39m \u001b[39mand\u001b[39;00m is_classifier(\u001b[39mself\u001b[39m):\n\u001b[0;32m    382\u001b[0m     \u001b[39mself\u001b[39m\u001b[39m.\u001b[39mn_classes_ \u001b[39m=\u001b[39m \u001b[39mself\u001b[39m\u001b[39m.\u001b[39mn_classes_[\u001b[39m0\u001b[39m]\n",
      "\u001b[1;31mKeyboardInterrupt\u001b[0m: "
     ]
    }
   ],
   "source": [
    "from sklearn.ensemble import RandomForestClassifier #use this when label is categorical\n",
    "\n",
    "# Train a random forest classifier on the dataset\n",
    "forest = RandomForestClassifier(n_estimators = 100, random_state=42)\n",
    "forest.fit(features, label)\n",
    "\n",
    "# Get the feature importances and sort them in descending order\n",
    "importances = forest.feature_importances_\n",
    "sorted_indices = importances.argsort()[::-1]\n",
    "feature_names = df.loc[:, ~df.columns.isin(['Flow_ID', 'Source_IP', 'Destination_IP', 'Timestamp', 'Label', 'Target'])].copy().columns\n",
    "\n",
    "# Print the top 10 features by importance\n",
    "top_features = 10\n",
    "for index in sorted_indices[:top_features]:\n",
    "    print(f\"{feature_names[index]}: {importances[index]}\")"
   ]
  },
  {
   "cell_type": "code",
   "execution_count": 40,
   "id": "ddb0c15d",
   "metadata": {},
   "outputs": [
    {
     "data": {
      "application/vnd.plotly.v1+json": {
       "config": {
        "plotlyServerURL": "https://plot.ly"
       },
       "data": [
        {
         "marker": {
          "color": [
           "#ff7f0e",
           "#1f77b4",
           "#2ca02c",
           "#d62728",
           "#9467bd",
           "#8c564b",
           "#e377c2",
           "#7f7f7f",
           "#bcbd22",
           "#17becf"
          ],
          "line": {
           "color": "#000000",
           "width": 1
          }
         },
         "orientation": "h",
         "type": "bar",
         "x": [
          0.04097751951760758,
          0.04791388369574302,
          0.0495258279438441,
          0.051909297009655034,
          0.05488781857205268,
          0.056774166925017536,
          0.06881392168678165,
          0.07331976366751264,
          0.07822741276620575,
          0.08540890541602585
         ],
         "y": [
          "act_data_pkt_fwd",
          "Total_Length_of_Fwd_Packets",
          "Bwd_Packet_Length_Min",
          "Destination_Port",
          "Avg_Fwd_Segment_Size",
          "Subflow_Fwd_Packets",
          "Fwd_Packet_Length_Mean",
          "Subflow_Fwd_Bytes",
          "Init_Win_bytes_forward",
          "Fwd_Packet_Length_Max"
         ]
        }
       ],
       "layout": {
        "annotations": [
         {
          "align": "center",
          "font": {
           "color": "white",
           "family": "Arial",
           "size": 12
          },
          "showarrow": false,
          "text": "0.041",
          "x": 0.04097751951760758,
          "xref": "x",
          "y": "act_data_pkt_fwd",
          "yref": "y"
         },
         {
          "align": "center",
          "font": {
           "color": "white",
           "family": "Arial",
           "size": 12
          },
          "showarrow": false,
          "text": "0.048",
          "x": 0.04791388369574302,
          "xref": "x",
          "y": "Total_Length_of_Fwd_Packets",
          "yref": "y"
         },
         {
          "align": "center",
          "font": {
           "color": "white",
           "family": "Arial",
           "size": 12
          },
          "showarrow": false,
          "text": "0.05",
          "x": 0.0495258279438441,
          "xref": "x",
          "y": "Bwd_Packet_Length_Min",
          "yref": "y"
         },
         {
          "align": "center",
          "font": {
           "color": "white",
           "family": "Arial",
           "size": 12
          },
          "showarrow": false,
          "text": "0.052",
          "x": 0.051909297009655034,
          "xref": "x",
          "y": "Destination_Port",
          "yref": "y"
         },
         {
          "align": "center",
          "font": {
           "color": "white",
           "family": "Arial",
           "size": 12
          },
          "showarrow": false,
          "text": "0.055",
          "x": 0.05488781857205268,
          "xref": "x",
          "y": "Avg_Fwd_Segment_Size",
          "yref": "y"
         },
         {
          "align": "center",
          "font": {
           "color": "white",
           "family": "Arial",
           "size": 12
          },
          "showarrow": false,
          "text": "0.057",
          "x": 0.056774166925017536,
          "xref": "x",
          "y": "Subflow_Fwd_Packets",
          "yref": "y"
         },
         {
          "align": "center",
          "font": {
           "color": "white",
           "family": "Arial",
           "size": 12
          },
          "showarrow": false,
          "text": "0.069",
          "x": 0.06881392168678165,
          "xref": "x",
          "y": "Fwd_Packet_Length_Mean",
          "yref": "y"
         },
         {
          "align": "center",
          "font": {
           "color": "white",
           "family": "Arial",
           "size": 12
          },
          "showarrow": false,
          "text": "0.073",
          "x": 0.07331976366751264,
          "xref": "x",
          "y": "Subflow_Fwd_Bytes",
          "yref": "y"
         },
         {
          "align": "center",
          "font": {
           "color": "white",
           "family": "Arial",
           "size": 12
          },
          "showarrow": false,
          "text": "0.078",
          "x": 0.07822741276620575,
          "xref": "x",
          "y": "Init_Win_bytes_forward",
          "yref": "y"
         },
         {
          "align": "center",
          "font": {
           "color": "white",
           "family": "Arial",
           "size": 12
          },
          "showarrow": false,
          "text": "0.085",
          "x": 0.08540890541602585,
          "xref": "x",
          "y": "Fwd_Packet_Length_Max",
          "yref": "y"
         }
        ],
        "margin": {
         "b": 100,
         "l": 150,
         "r": 50,
         "t": 100
        },
        "template": {
         "data": {
          "bar": [
           {
            "error_x": {
             "color": "#2a3f5f"
            },
            "error_y": {
             "color": "#2a3f5f"
            },
            "marker": {
             "line": {
              "color": "#E5ECF6",
              "width": 0.5
             },
             "pattern": {
              "fillmode": "overlay",
              "size": 10,
              "solidity": 0.2
             }
            },
            "type": "bar"
           }
          ],
          "barpolar": [
           {
            "marker": {
             "line": {
              "color": "#E5ECF6",
              "width": 0.5
             },
             "pattern": {
              "fillmode": "overlay",
              "size": 10,
              "solidity": 0.2
             }
            },
            "type": "barpolar"
           }
          ],
          "carpet": [
           {
            "aaxis": {
             "endlinecolor": "#2a3f5f",
             "gridcolor": "white",
             "linecolor": "white",
             "minorgridcolor": "white",
             "startlinecolor": "#2a3f5f"
            },
            "baxis": {
             "endlinecolor": "#2a3f5f",
             "gridcolor": "white",
             "linecolor": "white",
             "minorgridcolor": "white",
             "startlinecolor": "#2a3f5f"
            },
            "type": "carpet"
           }
          ],
          "choropleth": [
           {
            "colorbar": {
             "outlinewidth": 0,
             "ticks": ""
            },
            "type": "choropleth"
           }
          ],
          "contour": [
           {
            "colorbar": {
             "outlinewidth": 0,
             "ticks": ""
            },
            "colorscale": [
             [
              0,
              "#0d0887"
             ],
             [
              0.1111111111111111,
              "#46039f"
             ],
             [
              0.2222222222222222,
              "#7201a8"
             ],
             [
              0.3333333333333333,
              "#9c179e"
             ],
             [
              0.4444444444444444,
              "#bd3786"
             ],
             [
              0.5555555555555556,
              "#d8576b"
             ],
             [
              0.6666666666666666,
              "#ed7953"
             ],
             [
              0.7777777777777778,
              "#fb9f3a"
             ],
             [
              0.8888888888888888,
              "#fdca26"
             ],
             [
              1,
              "#f0f921"
             ]
            ],
            "type": "contour"
           }
          ],
          "contourcarpet": [
           {
            "colorbar": {
             "outlinewidth": 0,
             "ticks": ""
            },
            "type": "contourcarpet"
           }
          ],
          "heatmap": [
           {
            "colorbar": {
             "outlinewidth": 0,
             "ticks": ""
            },
            "colorscale": [
             [
              0,
              "#0d0887"
             ],
             [
              0.1111111111111111,
              "#46039f"
             ],
             [
              0.2222222222222222,
              "#7201a8"
             ],
             [
              0.3333333333333333,
              "#9c179e"
             ],
             [
              0.4444444444444444,
              "#bd3786"
             ],
             [
              0.5555555555555556,
              "#d8576b"
             ],
             [
              0.6666666666666666,
              "#ed7953"
             ],
             [
              0.7777777777777778,
              "#fb9f3a"
             ],
             [
              0.8888888888888888,
              "#fdca26"
             ],
             [
              1,
              "#f0f921"
             ]
            ],
            "type": "heatmap"
           }
          ],
          "heatmapgl": [
           {
            "colorbar": {
             "outlinewidth": 0,
             "ticks": ""
            },
            "colorscale": [
             [
              0,
              "#0d0887"
             ],
             [
              0.1111111111111111,
              "#46039f"
             ],
             [
              0.2222222222222222,
              "#7201a8"
             ],
             [
              0.3333333333333333,
              "#9c179e"
             ],
             [
              0.4444444444444444,
              "#bd3786"
             ],
             [
              0.5555555555555556,
              "#d8576b"
             ],
             [
              0.6666666666666666,
              "#ed7953"
             ],
             [
              0.7777777777777778,
              "#fb9f3a"
             ],
             [
              0.8888888888888888,
              "#fdca26"
             ],
             [
              1,
              "#f0f921"
             ]
            ],
            "type": "heatmapgl"
           }
          ],
          "histogram": [
           {
            "marker": {
             "pattern": {
              "fillmode": "overlay",
              "size": 10,
              "solidity": 0.2
             }
            },
            "type": "histogram"
           }
          ],
          "histogram2d": [
           {
            "colorbar": {
             "outlinewidth": 0,
             "ticks": ""
            },
            "colorscale": [
             [
              0,
              "#0d0887"
             ],
             [
              0.1111111111111111,
              "#46039f"
             ],
             [
              0.2222222222222222,
              "#7201a8"
             ],
             [
              0.3333333333333333,
              "#9c179e"
             ],
             [
              0.4444444444444444,
              "#bd3786"
             ],
             [
              0.5555555555555556,
              "#d8576b"
             ],
             [
              0.6666666666666666,
              "#ed7953"
             ],
             [
              0.7777777777777778,
              "#fb9f3a"
             ],
             [
              0.8888888888888888,
              "#fdca26"
             ],
             [
              1,
              "#f0f921"
             ]
            ],
            "type": "histogram2d"
           }
          ],
          "histogram2dcontour": [
           {
            "colorbar": {
             "outlinewidth": 0,
             "ticks": ""
            },
            "colorscale": [
             [
              0,
              "#0d0887"
             ],
             [
              0.1111111111111111,
              "#46039f"
             ],
             [
              0.2222222222222222,
              "#7201a8"
             ],
             [
              0.3333333333333333,
              "#9c179e"
             ],
             [
              0.4444444444444444,
              "#bd3786"
             ],
             [
              0.5555555555555556,
              "#d8576b"
             ],
             [
              0.6666666666666666,
              "#ed7953"
             ],
             [
              0.7777777777777778,
              "#fb9f3a"
             ],
             [
              0.8888888888888888,
              "#fdca26"
             ],
             [
              1,
              "#f0f921"
             ]
            ],
            "type": "histogram2dcontour"
           }
          ],
          "mesh3d": [
           {
            "colorbar": {
             "outlinewidth": 0,
             "ticks": ""
            },
            "type": "mesh3d"
           }
          ],
          "parcoords": [
           {
            "line": {
             "colorbar": {
              "outlinewidth": 0,
              "ticks": ""
             }
            },
            "type": "parcoords"
           }
          ],
          "pie": [
           {
            "automargin": true,
            "type": "pie"
           }
          ],
          "scatter": [
           {
            "fillpattern": {
             "fillmode": "overlay",
             "size": 10,
             "solidity": 0.2
            },
            "type": "scatter"
           }
          ],
          "scatter3d": [
           {
            "line": {
             "colorbar": {
              "outlinewidth": 0,
              "ticks": ""
             }
            },
            "marker": {
             "colorbar": {
              "outlinewidth": 0,
              "ticks": ""
             }
            },
            "type": "scatter3d"
           }
          ],
          "scattercarpet": [
           {
            "marker": {
             "colorbar": {
              "outlinewidth": 0,
              "ticks": ""
             }
            },
            "type": "scattercarpet"
           }
          ],
          "scattergeo": [
           {
            "marker": {
             "colorbar": {
              "outlinewidth": 0,
              "ticks": ""
             }
            },
            "type": "scattergeo"
           }
          ],
          "scattergl": [
           {
            "marker": {
             "colorbar": {
              "outlinewidth": 0,
              "ticks": ""
             }
            },
            "type": "scattergl"
           }
          ],
          "scattermapbox": [
           {
            "marker": {
             "colorbar": {
              "outlinewidth": 0,
              "ticks": ""
             }
            },
            "type": "scattermapbox"
           }
          ],
          "scatterpolar": [
           {
            "marker": {
             "colorbar": {
              "outlinewidth": 0,
              "ticks": ""
             }
            },
            "type": "scatterpolar"
           }
          ],
          "scatterpolargl": [
           {
            "marker": {
             "colorbar": {
              "outlinewidth": 0,
              "ticks": ""
             }
            },
            "type": "scatterpolargl"
           }
          ],
          "scatterternary": [
           {
            "marker": {
             "colorbar": {
              "outlinewidth": 0,
              "ticks": ""
             }
            },
            "type": "scatterternary"
           }
          ],
          "surface": [
           {
            "colorbar": {
             "outlinewidth": 0,
             "ticks": ""
            },
            "colorscale": [
             [
              0,
              "#0d0887"
             ],
             [
              0.1111111111111111,
              "#46039f"
             ],
             [
              0.2222222222222222,
              "#7201a8"
             ],
             [
              0.3333333333333333,
              "#9c179e"
             ],
             [
              0.4444444444444444,
              "#bd3786"
             ],
             [
              0.5555555555555556,
              "#d8576b"
             ],
             [
              0.6666666666666666,
              "#ed7953"
             ],
             [
              0.7777777777777778,
              "#fb9f3a"
             ],
             [
              0.8888888888888888,
              "#fdca26"
             ],
             [
              1,
              "#f0f921"
             ]
            ],
            "type": "surface"
           }
          ],
          "table": [
           {
            "cells": {
             "fill": {
              "color": "#EBF0F8"
             },
             "line": {
              "color": "white"
             }
            },
            "header": {
             "fill": {
              "color": "#C8D4E3"
             },
             "line": {
              "color": "white"
             }
            },
            "type": "table"
           }
          ]
         },
         "layout": {
          "annotationdefaults": {
           "arrowcolor": "#2a3f5f",
           "arrowhead": 0,
           "arrowwidth": 1
          },
          "autotypenumbers": "strict",
          "coloraxis": {
           "colorbar": {
            "outlinewidth": 0,
            "ticks": ""
           }
          },
          "colorscale": {
           "diverging": [
            [
             0,
             "#8e0152"
            ],
            [
             0.1,
             "#c51b7d"
            ],
            [
             0.2,
             "#de77ae"
            ],
            [
             0.3,
             "#f1b6da"
            ],
            [
             0.4,
             "#fde0ef"
            ],
            [
             0.5,
             "#f7f7f7"
            ],
            [
             0.6,
             "#e6f5d0"
            ],
            [
             0.7,
             "#b8e186"
            ],
            [
             0.8,
             "#7fbc41"
            ],
            [
             0.9,
             "#4d9221"
            ],
            [
             1,
             "#276419"
            ]
           ],
           "sequential": [
            [
             0,
             "#0d0887"
            ],
            [
             0.1111111111111111,
             "#46039f"
            ],
            [
             0.2222222222222222,
             "#7201a8"
            ],
            [
             0.3333333333333333,
             "#9c179e"
            ],
            [
             0.4444444444444444,
             "#bd3786"
            ],
            [
             0.5555555555555556,
             "#d8576b"
            ],
            [
             0.6666666666666666,
             "#ed7953"
            ],
            [
             0.7777777777777778,
             "#fb9f3a"
            ],
            [
             0.8888888888888888,
             "#fdca26"
            ],
            [
             1,
             "#f0f921"
            ]
           ],
           "sequentialminus": [
            [
             0,
             "#0d0887"
            ],
            [
             0.1111111111111111,
             "#46039f"
            ],
            [
             0.2222222222222222,
             "#7201a8"
            ],
            [
             0.3333333333333333,
             "#9c179e"
            ],
            [
             0.4444444444444444,
             "#bd3786"
            ],
            [
             0.5555555555555556,
             "#d8576b"
            ],
            [
             0.6666666666666666,
             "#ed7953"
            ],
            [
             0.7777777777777778,
             "#fb9f3a"
            ],
            [
             0.8888888888888888,
             "#fdca26"
            ],
            [
             1,
             "#f0f921"
            ]
           ]
          },
          "colorway": [
           "#636efa",
           "#EF553B",
           "#00cc96",
           "#ab63fa",
           "#FFA15A",
           "#19d3f3",
           "#FF6692",
           "#B6E880",
           "#FF97FF",
           "#FECB52"
          ],
          "font": {
           "color": "#2a3f5f"
          },
          "geo": {
           "bgcolor": "white",
           "lakecolor": "white",
           "landcolor": "#E5ECF6",
           "showlakes": true,
           "showland": true,
           "subunitcolor": "white"
          },
          "hoverlabel": {
           "align": "left"
          },
          "hovermode": "closest",
          "mapbox": {
           "style": "light"
          },
          "paper_bgcolor": "white",
          "plot_bgcolor": "#E5ECF6",
          "polar": {
           "angularaxis": {
            "gridcolor": "white",
            "linecolor": "white",
            "ticks": ""
           },
           "bgcolor": "#E5ECF6",
           "radialaxis": {
            "gridcolor": "white",
            "linecolor": "white",
            "ticks": ""
           }
          },
          "scene": {
           "xaxis": {
            "backgroundcolor": "#E5ECF6",
            "gridcolor": "white",
            "gridwidth": 2,
            "linecolor": "white",
            "showbackground": true,
            "ticks": "",
            "zerolinecolor": "white"
           },
           "yaxis": {
            "backgroundcolor": "#E5ECF6",
            "gridcolor": "white",
            "gridwidth": 2,
            "linecolor": "white",
            "showbackground": true,
            "ticks": "",
            "zerolinecolor": "white"
           },
           "zaxis": {
            "backgroundcolor": "#E5ECF6",
            "gridcolor": "white",
            "gridwidth": 2,
            "linecolor": "white",
            "showbackground": true,
            "ticks": "",
            "zerolinecolor": "white"
           }
          },
          "shapedefaults": {
           "line": {
            "color": "#2a3f5f"
           }
          },
          "ternary": {
           "aaxis": {
            "gridcolor": "white",
            "linecolor": "white",
            "ticks": ""
           },
           "baxis": {
            "gridcolor": "white",
            "linecolor": "white",
            "ticks": ""
           },
           "bgcolor": "#E5ECF6",
           "caxis": {
            "gridcolor": "white",
            "linecolor": "white",
            "ticks": ""
           }
          },
          "title": {
           "x": 0.05
          },
          "xaxis": {
           "automargin": true,
           "gridcolor": "white",
           "linecolor": "white",
           "ticks": "",
           "title": {
            "standoff": 15
           },
           "zerolinecolor": "white",
           "zerolinewidth": 2
          },
          "yaxis": {
           "automargin": true,
           "gridcolor": "white",
           "linecolor": "white",
           "ticks": "",
           "title": {
            "standoff": 15
           },
           "zerolinecolor": "white",
           "zerolinewidth": 2
          }
         }
        },
        "title": {
         "text": "Top 10 Features by Importance"
        },
        "xaxis": {
         "title": {
          "text": "Importance"
         }
        },
        "yaxis": {
         "title": {
          "text": "Features"
         }
        }
       }
      }
     },
     "metadata": {},
     "output_type": "display_data"
    }
   ],
   "source": [
    "import plotly.graph_objs as go\n",
    "import json\n",
    "import plotly as plotly\n",
    "\n",
    "# Create a horizontal bar plot of feature importances\n",
    "trace = go.Bar(\n",
    "    y=feature_names[sorted_indices][:top_features][::-1],\n",
    "    x=importances[sorted_indices][:top_features][::-1],\n",
    "    orientation='h',\n",
    "    marker=dict(color=['#ff7f0e','#1f77b4','#2ca02c','#d62728','#9467bd','#8c564b','#e377c2','#7f7f7f','#bcbd22','#17becf']),\n",
    ")\n",
    "\n",
    "# Add labels to the plot\n",
    "layout = go.Layout(\n",
    "    xaxis=dict(title='Importance'),\n",
    "    yaxis=dict(title='Features'),\n",
    "    title='Top 10 Features by Importance',\n",
    "    margin=dict(l=150, r=50, b=100, t=100),\n",
    ")\n",
    "\n",
    "# Add a frame around each bar and the importance value to the middle of each bar\n",
    "annotations = []\n",
    "for i in range(top_features):\n",
    "    annotations.append(dict(xref='x', yref='y',\n",
    "                            x=importances[sorted_indices][:top_features][::-1][i], y=feature_names[sorted_indices][:top_features][::-1][i],\n",
    "                            text=str(round(importances[sorted_indices][:top_features][::-1][i], 3)),\n",
    "                            font=dict(family='Arial', size=12, color='white'),\n",
    "                            showarrow=False,\n",
    "                            align='center',\n",
    "                           ))\n",
    "    \n",
    "    trace.marker.line.width = 1\n",
    "    trace.marker.line.color = '#000000'\n",
    "    \n",
    "fig = go.Figure(data=[trace], layout=layout)\n",
    "fig.update_layout(annotations=annotations)\n",
    "fig.show()\n",
    "\n",
    "fig_json = json.dumps(fig, cls=plotly.utils.PlotlyJSONEncoder)\n",
    "with open('FeatureSelection.json', 'w') as f:\n",
    "    f.write(fig_json)"
   ]
  },
  {
   "cell_type": "code",
   "execution_count": null,
   "id": "680adf7c",
   "metadata": {},
   "outputs": [],
   "source": [
    "names = ['Destination_Port', 'Fwd_Packet_Length_Max', \"Avg_Fwd_Segment_Size\", \"Fwd_Packet_Length_Mean\", \"Subflow_Fwd_Bytes\",\n",
    "        \"Total_Length_of_Fwd_Packets\", \"Source_Port\", \"Init_Win_bytes_forward\"]\n",
    "'''\"Fwd_Packet_Length_Std\", \"Init_Win_bytes_backward\",\n",
    "        \"act_data_pkt_fwd\", \"Bwd_Packet_Length_Mean\", \"Avg_Bwd_Segment_Size\", \"Fwd_IAT_Total\", \"min_seg_size_forward\", \"Fwd_IAT_Max\",\n",
    "        \"Bwd\n",
    "        _Packet_Length_Max\", \"Average_Packet_Size\", \"Bwd_Packet_Length_Std\", \"Packet_Length_Mean\"'''\n",
    "features = np.float32(df.loc[:, df.columns.isin(names)].copy().values) #reduce memory usage"
   ]
  },
  {
   "cell_type": "code",
   "execution_count": 30,
   "id": "14463f88",
   "metadata": {
    "scrolled": false
   },
   "outputs": [
    {
     "name": "stdout",
     "output_type": "stream",
     "text": [
      "Gaussian Naive Bayes:\n",
      "Accuracy: 0.808\n",
      "Precision: 0.749\n",
      "Recall: 0.999\n",
      "F1 score: 0.856\n",
      "Running time: 0.263 seconds\n",
      "\n"
     ]
    },
    {
     "ename": "KeyboardInterrupt",
     "evalue": "",
     "output_type": "error",
     "traceback": [
      "\u001b[1;31m---------------------------------------------------------------------------\u001b[0m",
      "\u001b[1;31mKeyboardInterrupt\u001b[0m                         Traceback (most recent call last)",
      "Cell \u001b[1;32mIn[30], line 28\u001b[0m\n\u001b[0;32m     26\u001b[0m s_time \u001b[39m=\u001b[39m time\u001b[39m.\u001b[39mtime()\n\u001b[0;32m     27\u001b[0m model\u001b[39m.\u001b[39mfit(X_train, y_train)\n\u001b[1;32m---> 28\u001b[0m y_pred \u001b[39m=\u001b[39m model\u001b[39m.\u001b[39;49mpredict(X_test)\n\u001b[0;32m     29\u001b[0m e_time \u001b[39m=\u001b[39m time\u001b[39m.\u001b[39mtime()\n\u001b[0;32m     31\u001b[0m accuracy \u001b[39m=\u001b[39m accuracy_score(y_test, y_pred)\n",
      "File \u001b[1;32mc:\\Users\\jonth\\AppData\\Local\\Programs\\Python\\Python311\\Lib\\site-packages\\sklearn\\neighbors\\_classification.py:234\u001b[0m, in \u001b[0;36mKNeighborsClassifier.predict\u001b[1;34m(self, X)\u001b[0m\n\u001b[0;32m    218\u001b[0m \u001b[39m\u001b[39m\u001b[39m\"\"\"Predict the class labels for the provided data.\u001b[39;00m\n\u001b[0;32m    219\u001b[0m \n\u001b[0;32m    220\u001b[0m \u001b[39mParameters\u001b[39;00m\n\u001b[1;32m   (...)\u001b[0m\n\u001b[0;32m    229\u001b[0m \u001b[39m    Class labels for each data sample.\u001b[39;00m\n\u001b[0;32m    230\u001b[0m \u001b[39m\"\"\"\u001b[39;00m\n\u001b[0;32m    231\u001b[0m \u001b[39mif\u001b[39;00m \u001b[39mself\u001b[39m\u001b[39m.\u001b[39mweights \u001b[39m==\u001b[39m \u001b[39m\"\u001b[39m\u001b[39muniform\u001b[39m\u001b[39m\"\u001b[39m:\n\u001b[0;32m    232\u001b[0m     \u001b[39m# In that case, we do not need the distances to perform\u001b[39;00m\n\u001b[0;32m    233\u001b[0m     \u001b[39m# the weighting so we do not compute them.\u001b[39;00m\n\u001b[1;32m--> 234\u001b[0m     neigh_ind \u001b[39m=\u001b[39m \u001b[39mself\u001b[39;49m\u001b[39m.\u001b[39;49mkneighbors(X, return_distance\u001b[39m=\u001b[39;49m\u001b[39mFalse\u001b[39;49;00m)\n\u001b[0;32m    235\u001b[0m     neigh_dist \u001b[39m=\u001b[39m \u001b[39mNone\u001b[39;00m\n\u001b[0;32m    236\u001b[0m \u001b[39melse\u001b[39;00m:\n",
      "File \u001b[1;32mc:\\Users\\jonth\\AppData\\Local\\Programs\\Python\\Python311\\Lib\\site-packages\\sklearn\\neighbors\\_base.py:824\u001b[0m, in \u001b[0;36mKNeighborsMixin.kneighbors\u001b[1;34m(self, X, n_neighbors, return_distance)\u001b[0m\n\u001b[0;32m    817\u001b[0m use_pairwise_distances_reductions \u001b[39m=\u001b[39m (\n\u001b[0;32m    818\u001b[0m     \u001b[39mself\u001b[39m\u001b[39m.\u001b[39m_fit_method \u001b[39m==\u001b[39m \u001b[39m\"\u001b[39m\u001b[39mbrute\u001b[39m\u001b[39m\"\u001b[39m\n\u001b[0;32m    819\u001b[0m     \u001b[39mand\u001b[39;00m ArgKmin\u001b[39m.\u001b[39mis_usable_for(\n\u001b[0;32m    820\u001b[0m         X \u001b[39mif\u001b[39;00m X \u001b[39mis\u001b[39;00m \u001b[39mnot\u001b[39;00m \u001b[39mNone\u001b[39;00m \u001b[39melse\u001b[39;00m \u001b[39mself\u001b[39m\u001b[39m.\u001b[39m_fit_X, \u001b[39mself\u001b[39m\u001b[39m.\u001b[39m_fit_X, \u001b[39mself\u001b[39m\u001b[39m.\u001b[39meffective_metric_\n\u001b[0;32m    821\u001b[0m     )\n\u001b[0;32m    822\u001b[0m )\n\u001b[0;32m    823\u001b[0m \u001b[39mif\u001b[39;00m use_pairwise_distances_reductions:\n\u001b[1;32m--> 824\u001b[0m     results \u001b[39m=\u001b[39m ArgKmin\u001b[39m.\u001b[39;49mcompute(\n\u001b[0;32m    825\u001b[0m         X\u001b[39m=\u001b[39;49mX,\n\u001b[0;32m    826\u001b[0m         Y\u001b[39m=\u001b[39;49m\u001b[39mself\u001b[39;49m\u001b[39m.\u001b[39;49m_fit_X,\n\u001b[0;32m    827\u001b[0m         k\u001b[39m=\u001b[39;49mn_neighbors,\n\u001b[0;32m    828\u001b[0m         metric\u001b[39m=\u001b[39;49m\u001b[39mself\u001b[39;49m\u001b[39m.\u001b[39;49meffective_metric_,\n\u001b[0;32m    829\u001b[0m         metric_kwargs\u001b[39m=\u001b[39;49m\u001b[39mself\u001b[39;49m\u001b[39m.\u001b[39;49meffective_metric_params_,\n\u001b[0;32m    830\u001b[0m         strategy\u001b[39m=\u001b[39;49m\u001b[39m\"\u001b[39;49m\u001b[39mauto\u001b[39;49m\u001b[39m\"\u001b[39;49m,\n\u001b[0;32m    831\u001b[0m         return_distance\u001b[39m=\u001b[39;49mreturn_distance,\n\u001b[0;32m    832\u001b[0m     )\n\u001b[0;32m    834\u001b[0m \u001b[39melif\u001b[39;00m (\n\u001b[0;32m    835\u001b[0m     \u001b[39mself\u001b[39m\u001b[39m.\u001b[39m_fit_method \u001b[39m==\u001b[39m \u001b[39m\"\u001b[39m\u001b[39mbrute\u001b[39m\u001b[39m\"\u001b[39m \u001b[39mand\u001b[39;00m \u001b[39mself\u001b[39m\u001b[39m.\u001b[39mmetric \u001b[39m==\u001b[39m \u001b[39m\"\u001b[39m\u001b[39mprecomputed\u001b[39m\u001b[39m\"\u001b[39m \u001b[39mand\u001b[39;00m issparse(X)\n\u001b[0;32m    836\u001b[0m ):\n\u001b[0;32m    837\u001b[0m     results \u001b[39m=\u001b[39m _kneighbors_from_graph(\n\u001b[0;32m    838\u001b[0m         X, n_neighbors\u001b[39m=\u001b[39mn_neighbors, return_distance\u001b[39m=\u001b[39mreturn_distance\n\u001b[0;32m    839\u001b[0m     )\n",
      "File \u001b[1;32mc:\\Users\\jonth\\AppData\\Local\\Programs\\Python\\Python311\\Lib\\site-packages\\sklearn\\metrics\\_pairwise_distances_reduction\\_dispatcher.py:289\u001b[0m, in \u001b[0;36mArgKmin.compute\u001b[1;34m(cls, X, Y, k, metric, chunk_size, metric_kwargs, strategy, return_distance)\u001b[0m\n\u001b[0;32m    277\u001b[0m     \u001b[39mreturn\u001b[39;00m ArgKmin64\u001b[39m.\u001b[39mcompute(\n\u001b[0;32m    278\u001b[0m         X\u001b[39m=\u001b[39mX,\n\u001b[0;32m    279\u001b[0m         Y\u001b[39m=\u001b[39mY,\n\u001b[1;32m   (...)\u001b[0m\n\u001b[0;32m    285\u001b[0m         return_distance\u001b[39m=\u001b[39mreturn_distance,\n\u001b[0;32m    286\u001b[0m     )\n\u001b[0;32m    288\u001b[0m \u001b[39mif\u001b[39;00m X\u001b[39m.\u001b[39mdtype \u001b[39m==\u001b[39m Y\u001b[39m.\u001b[39mdtype \u001b[39m==\u001b[39m np\u001b[39m.\u001b[39mfloat32:\n\u001b[1;32m--> 289\u001b[0m     \u001b[39mreturn\u001b[39;00m ArgKmin32\u001b[39m.\u001b[39;49mcompute(\n\u001b[0;32m    290\u001b[0m         X\u001b[39m=\u001b[39;49mX,\n\u001b[0;32m    291\u001b[0m         Y\u001b[39m=\u001b[39;49mY,\n\u001b[0;32m    292\u001b[0m         k\u001b[39m=\u001b[39;49mk,\n\u001b[0;32m    293\u001b[0m         metric\u001b[39m=\u001b[39;49mmetric,\n\u001b[0;32m    294\u001b[0m         chunk_size\u001b[39m=\u001b[39;49mchunk_size,\n\u001b[0;32m    295\u001b[0m         metric_kwargs\u001b[39m=\u001b[39;49mmetric_kwargs,\n\u001b[0;32m    296\u001b[0m         strategy\u001b[39m=\u001b[39;49mstrategy,\n\u001b[0;32m    297\u001b[0m         return_distance\u001b[39m=\u001b[39;49mreturn_distance,\n\u001b[0;32m    298\u001b[0m     )\n\u001b[0;32m    300\u001b[0m \u001b[39mraise\u001b[39;00m \u001b[39mValueError\u001b[39;00m(\n\u001b[0;32m    301\u001b[0m     \u001b[39m\"\u001b[39m\u001b[39mOnly float64 or float32 datasets pairs are supported at this time, \u001b[39m\u001b[39m\"\u001b[39m\n\u001b[0;32m    302\u001b[0m     \u001b[39mf\u001b[39m\u001b[39m\"\u001b[39m\u001b[39mgot: X.dtype=\u001b[39m\u001b[39m{\u001b[39;00mX\u001b[39m.\u001b[39mdtype\u001b[39m}\u001b[39;00m\u001b[39m and Y.dtype=\u001b[39m\u001b[39m{\u001b[39;00mY\u001b[39m.\u001b[39mdtype\u001b[39m}\u001b[39;00m\u001b[39m.\u001b[39m\u001b[39m\"\u001b[39m\n\u001b[0;32m    303\u001b[0m )\n",
      "File \u001b[1;32msklearn\\metrics\\_pairwise_distances_reduction\\_argkmin.pyx:584\u001b[0m, in \u001b[0;36msklearn.metrics._pairwise_distances_reduction._argkmin.ArgKmin32.compute\u001b[1;34m()\u001b[0m\n",
      "File \u001b[1;32mc:\\Users\\jonth\\AppData\\Local\\Programs\\Python\\Python311\\Lib\\site-packages\\threadpoolctl.py:171\u001b[0m, in \u001b[0;36m_ThreadpoolLimiter.__exit__\u001b[1;34m(self, type, value, traceback)\u001b[0m\n\u001b[0;32m    168\u001b[0m \u001b[39mdef\u001b[39;00m \u001b[39m__enter__\u001b[39m(\u001b[39mself\u001b[39m):\n\u001b[0;32m    169\u001b[0m     \u001b[39mreturn\u001b[39;00m \u001b[39mself\u001b[39m\n\u001b[1;32m--> 171\u001b[0m \u001b[39mdef\u001b[39;00m \u001b[39m__exit__\u001b[39m(\u001b[39mself\u001b[39m, \u001b[39mtype\u001b[39m, value, traceback):\n\u001b[0;32m    172\u001b[0m     \u001b[39mself\u001b[39m\u001b[39m.\u001b[39mrestore_original_limits()\n\u001b[0;32m    174\u001b[0m \u001b[39m@classmethod\u001b[39m\n\u001b[0;32m    175\u001b[0m \u001b[39mdef\u001b[39;00m \u001b[39mwrap\u001b[39m(\u001b[39mcls\u001b[39m, controller, \u001b[39m*\u001b[39m, limits\u001b[39m=\u001b[39m\u001b[39mNone\u001b[39;00m, user_api\u001b[39m=\u001b[39m\u001b[39mNone\u001b[39;00m):\n",
      "\u001b[1;31mKeyboardInterrupt\u001b[0m: "
     ]
    }
   ],
   "source": [
    "from sklearn.naive_bayes import GaussianNB\n",
    "from sklearn.neighbors import KNeighborsClassifier\n",
    "from sklearn.tree import DecisionTreeClassifier\n",
    "from sklearn.ensemble import RandomForestClassifier\n",
    "from sklearn.metrics import accuracy_score, precision_score, recall_score, f1_score\n",
    "from sklearn.model_selection import train_test_split\n",
    "\n",
    "import time\n",
    "\n",
    "# Use the top 10 features\n",
    "X = features\n",
    "y = df['Target'].values\n",
    "\n",
    "# Split the data into training and testing sets\n",
    "X_train, X_test, y_train, y_test = train_test_split(X, y, test_size=0.2, random_state=42)\n",
    "\n",
    "# Train and evaluate several classifiers\n",
    "models = {\n",
    "    \"Gaussian Naive Bayes\": GaussianNB(),\n",
    "    \"K-Nearest Neighbors\": KNeighborsClassifier(),\n",
    "    \"Decision Tree\": DecisionTreeClassifier(),\n",
    "    \"Random Forest\": RandomForestClassifier()\n",
    "}\n",
    "\n",
    "for name, model in models.items():\n",
    "    s_time = time.time()\n",
    "    model.fit(X_train, y_train)\n",
    "    y_pred = model.predict(X_test)\n",
    "    e_time = time.time()\n",
    "    \n",
    "    accuracy = accuracy_score(y_test, y_pred)\n",
    "    precision = precision_score(y_test, y_pred)\n",
    "    recall = recall_score(y_test, y_pred)\n",
    "    f1 = f1_score(y_test, y_pred)\n",
    "\n",
    "    print(f\"{name}:\")\n",
    "    print(f\"Accuracy: {accuracy:.3f}\")\n",
    "    print(f\"Precision: {precision:.3f}\")\n",
    "    print(f\"Recall: {recall:.3f}\")\n",
    "    print(f\"F1 score: {f1:.3f}\")\n",
    "    print(f\"Running time: {e_time - s_time:.3f} seconds\\n\")"
   ]
  },
  {
   "cell_type": "code",
   "execution_count": 36,
   "id": "e3de4de5",
   "metadata": {},
   "outputs": [],
   "source": [
    "import numpy as np\n",
    "import pandas as pd\n",
    "import plotly.graph_objects as go\n",
    "from sklearn.ensemble import RandomForestClassifier\n",
    "from sklearn.model_selection import learning_curve\n",
    "import plotly as plotly\n",
    "\n",
    "# Raandom Forest\n",
    "\n",
    "# Define the model to use\n",
    "model = RandomForestClassifier()\n",
    "\n",
    "X = np.float32(df.loc[:, df.columns.isin(['Fwd_Packet_Length_Mean', 'Fwd_Packet_Length_Max', \"act_data_pkt_fwd\", \"Avg_Fwd_Segment_Size\", \"Fwd_IAT_Std\",\n",
    "        \"Subflow_Fwd_Bytes\", \"Total_Fwd_Packets\", \"Init_Win_bytes_forward\", \"Fwd_Header_Length1\", \"Destination_Port\"])].copy().values)\n",
    "y = df['Target'].values\n",
    "\n",
    "# Compute the learning curve for the model\n",
    "train_sizes, train_scores, test_scores = learning_curve(model, X, y, cv=5, n_jobs=-1,\n",
    "                                                            train_sizes=np.linspace(0.1, 1.0, 10))\n",
    "train_mean = np.mean(train_scores, axis=1)\n",
    "train_std = np.std(train_scores, axis=1)\n",
    "test_mean = np.mean(test_scores, axis=1)\n",
    "test_std = np.std(test_scores, axis=1)\n",
    "\n",
    "# Create a new plot\n",
    "fig = go.Figure()\n",
    "\n",
    "# Add the training and test scores to the plot\n",
    "fig.add_trace(go.Scatter(x=train_sizes, y=train_mean, mode='lines+markers', name=\"Training score\", line=dict(color=\"red\")))\n",
    "fig.add_trace(go.Scatter(x=train_sizes, y=test_mean, mode='lines+markers', name=\"Testing score\", line=dict(color=\"green\")))\n",
    "\n",
    "# Update the layout of the plot\n",
    "fig.update_layout(title='Random Forest Learning Curve', xaxis_title='Training Set Size', yaxis_title='Score')\n",
    "\n",
    "# Show the interactive plot\n",
    "\n",
    "fig_json = json.dumps(fig, cls=plotly.utils.PlotlyJSONEncoder)\n",
    "with open('RandomForest.json', 'w') as f:\n",
    "    f.write(fig_json)\n",
    "import json"
   ]
  },
  {
   "cell_type": "code",
   "execution_count": 37,
   "id": "916d39fc",
   "metadata": {},
   "outputs": [],
   "source": [
    "from sklearn.naive_bayes import GaussianNB\n",
    "\n",
    "# Gaussian Naive Bayes\n",
    "\n",
    "# Define the model to use\n",
    "model = GaussianNB()\n",
    "\n",
    "X = np.float32(df.loc[:, df.columns.isin(['Fwd_Packet_Length_Mean', 'Fwd_Packet_Length_Max', \"act_data_pkt_fwd\", \"Avg_Fwd_Segment_Size\", \"Fwd_IAT_Std\",\n",
    "        \"Subflow_Fwd_Bytes\", \"Total_Fwd_Packets\", \"Init_Win_bytes_forward\", \"Fwd_Header_Length1\", \"Destination_Port\"])].copy().values)\n",
    "y = df['Target'].values\n",
    "\n",
    "# Compute the learning curve for the model\n",
    "train_sizes, train_scores, test_scores = learning_curve(model, X, y, cv=5, n_jobs=-1,\n",
    "                                                            train_sizes=np.linspace(0.1, 1.0, 10))\n",
    "train_mean = np.mean(train_scores, axis=1)\n",
    "train_std = np.std(train_scores, axis=1)\n",
    "test_mean = np.mean(test_scores, axis=1)\n",
    "test_std = np.std(test_scores, axis=1)\n",
    "\n",
    "# Create a new plot\n",
    "fig = go.Figure()\n",
    "\n",
    "# Add the training and test scores to the plot\n",
    "fig.add_trace(go.Scatter(x=train_sizes, y=train_mean, mode='lines+markers', name=\"Training score\", line=dict(color=\"red\")))\n",
    "fig.add_trace(go.Scatter(x=train_sizes, y=test_mean, mode='lines+markers', name=\"Testing score\", line=dict(color=\"green\")))\n",
    "\n",
    "# Update the layout of the plot\n",
    "fig.update_layout(title='Random Forest Learning Curve', xaxis_title='Training Set Size', yaxis_title='Score')\n",
    "\n",
    "# Show the interactive plot\n",
    "\n",
    "fig_json = json.dumps(fig, cls=plotly.utils.PlotlyJSONEncoder)\n",
    "with open('GaussianNB.json', 'w') as f:\n",
    "    f.write(fig_json)\n",
    "import json"
   ]
  },
  {
   "cell_type": "code",
   "execution_count": 38,
   "id": "95e5ef36",
   "metadata": {},
   "outputs": [],
   "source": [
    "from sklearn.neighbors import KNeighborsClassifier\n",
    "\n",
    "# KNeighborsClassifier\n",
    "\n",
    "# Define the model to use\n",
    "model = KNeighborsClassifier()\n",
    "\n",
    "X = np.float32(df.loc[:, df.columns.isin(['Fwd_Packet_Length_Mean', 'Fwd_Packet_Length_Max', \"act_data_pkt_fwd\", \"Avg_Fwd_Segment_Size\", \"Fwd_IAT_Std\",\n",
    "        \"Subflow_Fwd_Bytes\", \"Total_Fwd_Packets\", \"Init_Win_bytes_forward\", \"Fwd_Header_Length1\", \"Destination_Port\"])].copy().values)\n",
    "y = df['Target'].values\n",
    "\n",
    "# Compute the learning curve for the model\n",
    "train_sizes, train_scores, test_scores = learning_curve(model, X, y, cv=5, n_jobs=-1,\n",
    "                                                            train_sizes=np.linspace(0.1, 1.0, 10))\n",
    "train_mean = np.mean(train_scores, axis=1)\n",
    "train_std = np.std(train_scores, axis=1)\n",
    "test_mean = np.mean(test_scores, axis=1)\n",
    "test_std = np.std(test_scores, axis=1)\n",
    "\n",
    "# Create a new plot\n",
    "fig = go.Figure()\n",
    "\n",
    "# Add the training and test scores to the plot\n",
    "fig.add_trace(go.Scatter(x=train_sizes, y=train_mean, mode='lines+markers', name=\"Training score\", line=dict(color=\"red\")))\n",
    "fig.add_trace(go.Scatter(x=train_sizes, y=test_mean, mode='lines+markers', name=\"Testing score\", line=dict(color=\"green\")))\n",
    "\n",
    "# Update the layout of the plot\n",
    "fig.update_layout(title='Random Forest Learning Curve', xaxis_title='Training Set Size', yaxis_title='Score')\n",
    "\n",
    "# Show the interactive plot\n",
    "\n",
    "fig_json = json.dumps(fig, cls=plotly.utils.PlotlyJSONEncoder)\n",
    "with open('KNeighbors.json', 'w') as f:\n",
    "    f.write(fig_json)\n"
   ]
  },
  {
   "cell_type": "code",
   "execution_count": 39,
   "id": "d26128f4",
   "metadata": {},
   "outputs": [],
   "source": [
    "from sklearn.tree import DecisionTreeClassifier\n",
    "\n",
    "# Decision Tree Classifier\n",
    "\n",
    "# Define the model to use\n",
    "model = DecisionTreeClassifier()\n",
    "\n",
    "X = np.float32(df.loc[:, df.columns.isin(['Fwd_Packet_Length_Mean', 'Fwd_Packet_Length_Max', \"act_data_pkt_fwd\", \"Avg_Fwd_Segment_Size\", \"Fwd_IAT_Std\",\n",
    "        \"Subflow_Fwd_Bytes\", \"Total_Fwd_Packets\", \"Init_Win_bytes_forward\", \"Fwd_Header_Length1\", \"Destination_Port\"])].copy().values)\n",
    "y = df['Target'].values\n",
    "\n",
    "# Compute the learning curve for the model\n",
    "train_sizes, train_scores, test_scores = learning_curve(model, X, y, cv=5, n_jobs=-1,\n",
    "                                                            train_sizes=np.linspace(0.1, 1.0, 10))\n",
    "train_mean = np.mean(train_scores, axis=1)\n",
    "train_std = np.std(train_scores, axis=1)\n",
    "test_mean = np.mean(test_scores, axis=1)\n",
    "test_std = np.std(test_scores, axis=1)\n",
    "\n",
    "# Create a new plot\n",
    "fig = go.Figure()\n",
    "\n",
    "# Add the training and test scores to the plot\n",
    "fig.add_trace(go.Scatter(x=train_sizes, y=train_mean, mode='lines+markers', name=\"Training score\", line=dict(color=\"red\")))\n",
    "fig.add_trace(go.Scatter(x=train_sizes, y=test_mean, mode='lines+markers', name=\"Testing score\", line=dict(color=\"green\")))\n",
    "\n",
    "# Update the layout of the plot\n",
    "fig.update_layout(title='Random Forest Learning Curve', xaxis_title='Training Set Size', yaxis_title='Score')\n",
    "\n",
    "# Show the interactive plot\n",
    "\n",
    "fig_json = json.dumps(fig, cls=plotly.utils.PlotlyJSONEncoder)\n",
    "with open('DecisionTree.json', 'w') as f:\n",
    "    f.write(fig_json)\n"
   ]
  },
  {
   "cell_type": "code",
   "execution_count": null,
   "id": "3960e323",
   "metadata": {},
   "outputs": [
    {
     "name": "stderr",
     "output_type": "stream",
     "text": [
      "c:\\Users\\jonth\\AppData\\Local\\Programs\\Python\\Python311\\Lib\\site-packages\\sklearn\\linear_model\\_coordinate_descent.py:631: ConvergenceWarning:\n",
      "\n",
      "Objective did not converge. You might want to increase the number of iterations, check the scale of the features or consider increasing regularisation. Duality gap: 7.446e+03, tolerance: 4.434e+00\n",
      "\n",
      "c:\\Users\\jonth\\AppData\\Local\\Programs\\Python\\Python311\\Lib\\site-packages\\sklearn\\linear_model\\_coordinate_descent.py:631: ConvergenceWarning:\n",
      "\n",
      "Objective did not converge. You might want to increase the number of iterations, check the scale of the features or consider increasing regularisation. Duality gap: 9.184e+03, tolerance: 4.434e+00\n",
      "\n",
      "c:\\Users\\jonth\\AppData\\Local\\Programs\\Python\\Python311\\Lib\\site-packages\\sklearn\\linear_model\\_coordinate_descent.py:631: ConvergenceWarning:\n",
      "\n",
      "Objective did not converge. You might want to increase the number of iterations, check the scale of the features or consider increasing regularisation. Duality gap: 9.543e+03, tolerance: 4.434e+00\n",
      "\n",
      "c:\\Users\\jonth\\AppData\\Local\\Programs\\Python\\Python311\\Lib\\site-packages\\sklearn\\linear_model\\_coordinate_descent.py:631: ConvergenceWarning:\n",
      "\n",
      "Objective did not converge. You might want to increase the number of iterations, check the scale of the features or consider increasing regularisation. Duality gap: 3.609e+03, tolerance: 4.434e+00\n",
      "\n"
     ]
    },
    {
     "data": {
      "text/html": [
       "<div>\n",
       "<style scoped>\n",
       "    .dataframe tbody tr th:only-of-type {\n",
       "        vertical-align: middle;\n",
       "    }\n",
       "\n",
       "    .dataframe tbody tr th {\n",
       "        vertical-align: top;\n",
       "    }\n",
       "\n",
       "    .dataframe thead th {\n",
       "        text-align: right;\n",
       "    }\n",
       "</style>\n",
       "<table border=\"1\" class=\"dataframe\">\n",
       "  <thead>\n",
       "    <tr style=\"text-align: right;\">\n",
       "      <th></th>\n",
       "      <th>l1_penalty</th>\n",
       "      <th>model</th>\n",
       "      <th>rmse_train</th>\n",
       "    </tr>\n",
       "  </thead>\n",
       "  <tbody>\n",
       "    <tr>\n",
       "      <th>0</th>\n",
       "      <td>10.0</td>\n",
       "      <td>Lasso(alpha=10.0)</td>\n",
       "      <td>0.273985</td>\n",
       "    </tr>\n",
       "    <tr>\n",
       "      <th>1</th>\n",
       "      <td>100.0</td>\n",
       "      <td>Lasso(alpha=100.0)</td>\n",
       "      <td>0.303884</td>\n",
       "    </tr>\n",
       "    <tr>\n",
       "      <th>2</th>\n",
       "      <td>1000.0</td>\n",
       "      <td>Lasso(alpha=1000.0)</td>\n",
       "      <td>0.330290</td>\n",
       "    </tr>\n",
       "    <tr>\n",
       "      <th>3</th>\n",
       "      <td>10000.0</td>\n",
       "      <td>Lasso(alpha=10000.0)</td>\n",
       "      <td>0.365711</td>\n",
       "    </tr>\n",
       "    <tr>\n",
       "      <th>4</th>\n",
       "      <td>100000.0</td>\n",
       "      <td>Lasso(alpha=100000.0)</td>\n",
       "      <td>0.401447</td>\n",
       "    </tr>\n",
       "    <tr>\n",
       "      <th>5</th>\n",
       "      <td>1000000.0</td>\n",
       "      <td>Lasso(alpha=1000000.0)</td>\n",
       "      <td>0.454019</td>\n",
       "    </tr>\n",
       "    <tr>\n",
       "      <th>6</th>\n",
       "      <td>10000000.0</td>\n",
       "      <td>Lasso(alpha=10000000.0)</td>\n",
       "      <td>0.495505</td>\n",
       "    </tr>\n",
       "  </tbody>\n",
       "</table>\n",
       "</div>"
      ],
      "text/plain": [
       "   l1_penalty                    model  rmse_train\n",
       "0        10.0        Lasso(alpha=10.0)    0.273985\n",
       "1       100.0       Lasso(alpha=100.0)    0.303884\n",
       "2      1000.0      Lasso(alpha=1000.0)    0.330290\n",
       "3     10000.0     Lasso(alpha=10000.0)    0.365711\n",
       "4    100000.0    Lasso(alpha=100000.0)    0.401447\n",
       "5   1000000.0   Lasso(alpha=1000000.0)    0.454019\n",
       "6  10000000.0  Lasso(alpha=10000000.0)    0.495505"
      ]
     },
     "execution_count": 13,
     "metadata": {},
     "output_type": "execute_result"
    }
   ],
   "source": [
    "from sklearn.linear_model import Lasso\n",
    "from sklearn.metrics import mean_squared_error\n",
    "\n",
    "# LASSO Regression for Feature Selection\n",
    "\n",
    "X = np.float32(df.loc[:, ~df.columns.isin(['Flow_ID', 'Source_IP', 'Destination_IP', 'Timestamp', 'Label', 'Target'])].copy().values)\n",
    "y = df['Target'].values\n",
    "\n",
    "# Split the data into training and testing sets\n",
    "X_train, X_test, y_train, y_test = train_test_split(X, y, test_size=0.2)\n",
    "\n",
    "# Testing multiple L1 penalty\n",
    "\n",
    "l1_lambdas = np.logspace(1, 7, 7, base=10)\n",
    "\n",
    "lasso_data = []\n",
    "\n",
    "for reg_coef in l1_lambdas:\n",
    "  l1_penalty = reg_coef\n",
    "  lasso_model = Lasso(alpha=reg_coef)\n",
    "  model = lasso_model.fit(X_train, y_train)\n",
    "  lasso_data.append({\n",
    "    'l1_penalty' : l1_penalty,\n",
    "    'model' : lasso_model,\n",
    "    'rmse_train' : mean_squared_error(y_train, model.predict(X_train), squared=False),\n",
    "  })\n",
    "lasso_data = pd.DataFrame(lasso_data)\n",
    "\n",
    "lasso_data"
   ]
  },
  {
   "cell_type": "code",
   "execution_count": null,
   "id": "7600c8d6",
   "metadata": {},
   "outputs": [
    {
     "name": "stdout",
     "output_type": "stream",
     "text": [
      "[-6.0234042e-06 -2.0992474e-08  0.0000000e+00 -0.0000000e+00\n",
      " -0.0000000e+00 -0.0000000e+00 -0.0000000e+00 -0.0000000e+00\n",
      " -0.0000000e+00 -0.0000000e+00  3.7929298e-05 -0.0000000e+00\n",
      "  8.5251442e-05  0.0000000e+00 -4.1942785e-10 -6.2935023e-08\n",
      "  3.4461448e-07 -3.3618544e-08 -5.5816338e-09 -2.8750014e-07\n",
      "  1.7231226e-08 -1.0429339e-07  6.1614053e-08  4.5540278e-09\n",
      "  5.0699342e-08 -2.2343956e-10 -5.1735544e-08 -3.2847392e-08\n",
      "  2.0949368e-08  9.5777333e-09 -0.0000000e+00  0.0000000e+00\n",
      "  0.0000000e+00  0.0000000e+00 -0.0000000e+00 -0.0000000e+00\n",
      "  0.0000000e+00 -5.1940992e-07 -0.0000000e+00  0.0000000e+00\n",
      "  0.0000000e+00  0.0000000e+00 -1.6430898e-08 -0.0000000e+00\n",
      " -0.0000000e+00 -0.0000000e+00  0.0000000e+00  0.0000000e+00\n",
      " -0.0000000e+00  0.0000000e+00 -0.0000000e+00 -0.0000000e+00\n",
      "  2.2420030e-04 -0.0000000e+00  0.0000000e+00 -0.0000000e+00\n",
      "  0.0000000e+00  0.0000000e+00  0.0000000e+00  0.0000000e+00\n",
      "  0.0000000e+00  0.0000000e+00  0.0000000e+00 -8.6537711e-06\n",
      " -0.0000000e+00 -2.1507196e-07 -6.9460330e-06 -5.6751965e-06\n",
      "  0.0000000e+00 -0.0000000e+00  2.0010035e-08 -1.6169646e-07\n",
      "  5.7397500e-08 -9.8663655e-08 -2.4752568e-08 -1.5293214e-08\n",
      "  1.0751590e-09  3.3535357e-09]\n",
      "Best L1 Penalty 10.0\n",
      "Test RMSE 0.26858252090927415\n",
      "Num Zero Coeffs 43\n"
     ]
    },
    {
     "name": "stderr",
     "output_type": "stream",
     "text": [
      "c:\\Users\\jonth\\AppData\\Local\\Programs\\Python\\Python311\\Lib\\site-packages\\sklearn\\linear_model\\_coordinate_descent.py:631: ConvergenceWarning:\n",
      "\n",
      "Objective did not converge. You might want to increase the number of iterations, check the scale of the features or consider increasing regularisation. Duality gap: 7.446e+03, tolerance: 4.434e+00\n",
      "\n"
     ]
    }
   ],
   "source": [
    "# Finding best L1 penalty\n",
    "\n",
    "best_l1 = lasso_data.loc[lasso_data[\"rmse_train\"].idxmin()][\"l1_penalty\"]\n",
    "\n",
    "lasso_model = Lasso(alpha=best_l1)\n",
    "model = lasso_model.fit(X_train, y_train)\n",
    "\n",
    "rmse_test_lasso = mean_squared_error(y_test, model.predict(X_test), squared=False)\n",
    "\n",
    "num = 0\n",
    "for i in lasso_model.coef_:\n",
    "  if i == 0:\n",
    "    num += 1\n",
    "\n",
    "num_zero_coeffs_lasso = num\n",
    "\n",
    "print(lasso_model.coef_)\n",
    "\n",
    "print('Best L1 Penalty', best_l1)\n",
    "print('Test RMSE', rmse_test_lasso)\n",
    "print('Num Zero Coeffs', num_zero_coeffs_lasso)"
   ]
  },
  {
   "cell_type": "code",
   "execution_count": null,
   "metadata": {},
   "outputs": [
    {
     "name": "stdout",
     "output_type": "stream",
     "text": [
      "Features with coefficient == 0: ['Total_Fwd_Packets', 'Total_Backward_Packets', 'Total_Length_of_Fwd_Packets', 'Total_Length_of_Bwd_Packets', 'Fwd_Packet_Length_Max', 'Fwd_Packet_Length_Min', 'Fwd_Packet_Length_Mean', 'Fwd_Packet_Length_Std', 'Bwd_Packet_Length_Min', 'Bwd_Packet_Length_Std', 'Fwd_PSH_Flags', 'Bwd_PSH_Flags', 'Fwd_URG_Flags', 'Bwd_URG_Flags', 'Fwd_Header_Length', 'Bwd_Header_Length', 'Fwd_Packets_s', 'Min_Packet_Length', 'Max_Packet_Length', 'Packet_Length_Mean', 'Packet_Length_Std', 'FIN_Flag_Count', 'SYN_Flag_Count', 'RST_Flag_Count', 'PSH_Flag_Count', 'ACK_Flag_Count', 'URG_Flag_Count', 'CWE_Flag_Count', 'ECE_Flag_Count', 'Down/Up_Ratio', 'Avg_Fwd_Segment_Size', 'Avg_Bwd_Segment_Size', 'Fwd_Header_Length1', 'Fwd_Avg_Bytes/Bulk', 'Fwd_Avg_Packets/Bulk', 'Fwd_Avg_Bulk_Rate', 'Bwd_Avg_Bytes/Bulk', 'Bwd_Avg_Packets/Bulk', 'Bwd_Avg_Bulk_Rate', 'Subflow_Fwd_Packets', 'Subflow_Bwd_Packets', 'act_data_pkt_fwd', 'min_seg_size_forward']\n",
      "Features with coefficient != 0: ['Destination_Port', 'Flow_Duration', 'Bwd_Packet_Length_Max', 'Bwd_Packet_Length_Mean', 'Flow_Bytes_s', 'Flow_Packets_s', 'Flow_IAT_Mean', 'Flow_IAT_Std', 'Flow_IAT_Max', 'Flow_IAT_Min', 'Fwd_IAT_Total', 'Fwd_IAT_Mean', 'Fwd_IAT_Std', 'Fwd_IAT_Max', 'Fwd_IAT_Min', 'Bwd_IAT_Total', 'Bwd_IAT_Mean', 'Bwd_IAT_Std', 'Bwd_IAT_Max', 'Bwd_IAT_Min', 'Bwd_Packets_s', 'Packet_Length_Variance', 'Average_Packet_Size', 'Subflow_Fwd_Bytes', 'Subflow_Bwd_Bytes', 'Init_Win_bytes_forward', 'Init_Win_bytes_backward', 'Active_Mean', 'Active_Std', 'Active_Max', 'Active_Min', 'Idle_Mean', 'Idle_Std', 'Idle_Max', 'Idle_Min']\n"
     ]
    }
   ],
   "source": [
    "# Print Features with non-zero coefficients\n",
    "\n",
    "best_model_lasso = model\n",
    "\n",
    "zero_coef_features = []\n",
    "nonzero_coef_features = []\n",
    "\n",
    "best_coef_features = []\n",
    "\n",
    "for feature, coef in zip(df.columns, best_model_lasso.coef_):\n",
    "  if abs(coef) <= 10 ** -17:\n",
    "    zero_coef_features.append(feature)\n",
    "  else:\n",
    "    nonzero_coef_features.append(feature)\n",
    "    best_coef_features.append({\n",
    "      'feature' : feature,\n",
    "      'coef' : abs(coef)\n",
    "    })\n",
    "\n",
    "best_coef_features = pd.DataFrame(best_coef_features)\n",
    "\n",
    "print(\"Features with coefficient == 0:\", zero_coef_features)\n",
    "print(\"Features with coefficient != 0:\", nonzero_coef_features)"
   ]
  },
  {
   "cell_type": "code",
   "execution_count": null,
   "id": "a48480ca",
   "metadata": {},
   "outputs": [],
   "source": [
    "sorted = best_coef_features.sort_values('coef', ascending=False)\n",
    "\n",
    "top_ten = sorted.head(10)\n",
    "\n",
    "\n"
   ]
  },
  {
   "cell_type": "code",
   "execution_count": 43,
   "id": "f2512f9c",
   "metadata": {},
   "outputs": [
    {
     "data": {
      "application/vnd.plotly.v1+json": {
       "config": {
        "plotlyServerURL": "https://plot.ly"
       },
       "data": [
        {
         "marker": {
          "color": [
           "#ff7f0e",
           "#1f77b4",
           "#2ca02c",
           "#d62728",
           "#9467bd",
           "#8c564b",
           "#e377c2",
           "#7f7f7f",
           "#bcbd22",
           "#17becf"
          ]
         },
         "orientation": "h",
         "type": "bar",
         "x": [
          0.00022420029563363642,
          0.00008525144221493974,
          0.000037929297832306474,
          0.000008653771146782674,
          0.0000069460329541470855,
          0.0000060234042393858545,
          0.000005675196462107124,
          5.194099230720894e-7,
          3.4461447739886353e-7,
          2.875001428037649e-7
         ],
         "y": [
          "Average_Packet_Size",
          "Bwd_Packet_Length_Mean",
          "Bwd_Packet_Length_Max",
          "Subflow_Fwd_Bytes",
          "Init_Win_bytes_forward",
          "Destination_Port",
          "Init_Win_bytes_backward",
          "Bwd_Packets_s",
          "Flow_IAT_Mean",
          "Flow_IAT_Min"
         ]
        }
       ],
       "layout": {
        "annotations": [
         {
          "align": "center",
          "font": {
           "color": "white",
           "family": "Arial",
           "size": 12
          },
          "showarrow": false,
          "text": "0.041",
          "x": 0.04097751951760758,
          "xref": "x",
          "y": "act_data_pkt_fwd",
          "yref": "y"
         },
         {
          "align": "center",
          "font": {
           "color": "white",
           "family": "Arial",
           "size": 12
          },
          "showarrow": false,
          "text": "0.048",
          "x": 0.04791388369574302,
          "xref": "x",
          "y": "Total_Length_of_Fwd_Packets",
          "yref": "y"
         },
         {
          "align": "center",
          "font": {
           "color": "white",
           "family": "Arial",
           "size": 12
          },
          "showarrow": false,
          "text": "0.05",
          "x": 0.0495258279438441,
          "xref": "x",
          "y": "Bwd_Packet_Length_Min",
          "yref": "y"
         },
         {
          "align": "center",
          "font": {
           "color": "white",
           "family": "Arial",
           "size": 12
          },
          "showarrow": false,
          "text": "0.052",
          "x": 0.051909297009655034,
          "xref": "x",
          "y": "Destination_Port",
          "yref": "y"
         },
         {
          "align": "center",
          "font": {
           "color": "white",
           "family": "Arial",
           "size": 12
          },
          "showarrow": false,
          "text": "0.055",
          "x": 0.05488781857205268,
          "xref": "x",
          "y": "Avg_Fwd_Segment_Size",
          "yref": "y"
         },
         {
          "align": "center",
          "font": {
           "color": "white",
           "family": "Arial",
           "size": 12
          },
          "showarrow": false,
          "text": "0.057",
          "x": 0.056774166925017536,
          "xref": "x",
          "y": "Subflow_Fwd_Packets",
          "yref": "y"
         },
         {
          "align": "center",
          "font": {
           "color": "white",
           "family": "Arial",
           "size": 12
          },
          "showarrow": false,
          "text": "0.069",
          "x": 0.06881392168678165,
          "xref": "x",
          "y": "Fwd_Packet_Length_Mean",
          "yref": "y"
         },
         {
          "align": "center",
          "font": {
           "color": "white",
           "family": "Arial",
           "size": 12
          },
          "showarrow": false,
          "text": "0.073",
          "x": 0.07331976366751264,
          "xref": "x",
          "y": "Subflow_Fwd_Bytes",
          "yref": "y"
         },
         {
          "align": "center",
          "font": {
           "color": "white",
           "family": "Arial",
           "size": 12
          },
          "showarrow": false,
          "text": "0.078",
          "x": 0.07822741276620575,
          "xref": "x",
          "y": "Init_Win_bytes_forward",
          "yref": "y"
         },
         {
          "align": "center",
          "font": {
           "color": "white",
           "family": "Arial",
           "size": 12
          },
          "showarrow": false,
          "text": "0.085",
          "x": 0.08540890541602585,
          "xref": "x",
          "y": "Fwd_Packet_Length_Max",
          "yref": "y"
         }
        ],
        "template": {
         "data": {
          "bar": [
           {
            "error_x": {
             "color": "#2a3f5f"
            },
            "error_y": {
             "color": "#2a3f5f"
            },
            "marker": {
             "line": {
              "color": "#E5ECF6",
              "width": 0.5
             },
             "pattern": {
              "fillmode": "overlay",
              "size": 10,
              "solidity": 0.2
             }
            },
            "type": "bar"
           }
          ],
          "barpolar": [
           {
            "marker": {
             "line": {
              "color": "#E5ECF6",
              "width": 0.5
             },
             "pattern": {
              "fillmode": "overlay",
              "size": 10,
              "solidity": 0.2
             }
            },
            "type": "barpolar"
           }
          ],
          "carpet": [
           {
            "aaxis": {
             "endlinecolor": "#2a3f5f",
             "gridcolor": "white",
             "linecolor": "white",
             "minorgridcolor": "white",
             "startlinecolor": "#2a3f5f"
            },
            "baxis": {
             "endlinecolor": "#2a3f5f",
             "gridcolor": "white",
             "linecolor": "white",
             "minorgridcolor": "white",
             "startlinecolor": "#2a3f5f"
            },
            "type": "carpet"
           }
          ],
          "choropleth": [
           {
            "colorbar": {
             "outlinewidth": 0,
             "ticks": ""
            },
            "type": "choropleth"
           }
          ],
          "contour": [
           {
            "colorbar": {
             "outlinewidth": 0,
             "ticks": ""
            },
            "colorscale": [
             [
              0,
              "#0d0887"
             ],
             [
              0.1111111111111111,
              "#46039f"
             ],
             [
              0.2222222222222222,
              "#7201a8"
             ],
             [
              0.3333333333333333,
              "#9c179e"
             ],
             [
              0.4444444444444444,
              "#bd3786"
             ],
             [
              0.5555555555555556,
              "#d8576b"
             ],
             [
              0.6666666666666666,
              "#ed7953"
             ],
             [
              0.7777777777777778,
              "#fb9f3a"
             ],
             [
              0.8888888888888888,
              "#fdca26"
             ],
             [
              1,
              "#f0f921"
             ]
            ],
            "type": "contour"
           }
          ],
          "contourcarpet": [
           {
            "colorbar": {
             "outlinewidth": 0,
             "ticks": ""
            },
            "type": "contourcarpet"
           }
          ],
          "heatmap": [
           {
            "colorbar": {
             "outlinewidth": 0,
             "ticks": ""
            },
            "colorscale": [
             [
              0,
              "#0d0887"
             ],
             [
              0.1111111111111111,
              "#46039f"
             ],
             [
              0.2222222222222222,
              "#7201a8"
             ],
             [
              0.3333333333333333,
              "#9c179e"
             ],
             [
              0.4444444444444444,
              "#bd3786"
             ],
             [
              0.5555555555555556,
              "#d8576b"
             ],
             [
              0.6666666666666666,
              "#ed7953"
             ],
             [
              0.7777777777777778,
              "#fb9f3a"
             ],
             [
              0.8888888888888888,
              "#fdca26"
             ],
             [
              1,
              "#f0f921"
             ]
            ],
            "type": "heatmap"
           }
          ],
          "heatmapgl": [
           {
            "colorbar": {
             "outlinewidth": 0,
             "ticks": ""
            },
            "colorscale": [
             [
              0,
              "#0d0887"
             ],
             [
              0.1111111111111111,
              "#46039f"
             ],
             [
              0.2222222222222222,
              "#7201a8"
             ],
             [
              0.3333333333333333,
              "#9c179e"
             ],
             [
              0.4444444444444444,
              "#bd3786"
             ],
             [
              0.5555555555555556,
              "#d8576b"
             ],
             [
              0.6666666666666666,
              "#ed7953"
             ],
             [
              0.7777777777777778,
              "#fb9f3a"
             ],
             [
              0.8888888888888888,
              "#fdca26"
             ],
             [
              1,
              "#f0f921"
             ]
            ],
            "type": "heatmapgl"
           }
          ],
          "histogram": [
           {
            "marker": {
             "pattern": {
              "fillmode": "overlay",
              "size": 10,
              "solidity": 0.2
             }
            },
            "type": "histogram"
           }
          ],
          "histogram2d": [
           {
            "colorbar": {
             "outlinewidth": 0,
             "ticks": ""
            },
            "colorscale": [
             [
              0,
              "#0d0887"
             ],
             [
              0.1111111111111111,
              "#46039f"
             ],
             [
              0.2222222222222222,
              "#7201a8"
             ],
             [
              0.3333333333333333,
              "#9c179e"
             ],
             [
              0.4444444444444444,
              "#bd3786"
             ],
             [
              0.5555555555555556,
              "#d8576b"
             ],
             [
              0.6666666666666666,
              "#ed7953"
             ],
             [
              0.7777777777777778,
              "#fb9f3a"
             ],
             [
              0.8888888888888888,
              "#fdca26"
             ],
             [
              1,
              "#f0f921"
             ]
            ],
            "type": "histogram2d"
           }
          ],
          "histogram2dcontour": [
           {
            "colorbar": {
             "outlinewidth": 0,
             "ticks": ""
            },
            "colorscale": [
             [
              0,
              "#0d0887"
             ],
             [
              0.1111111111111111,
              "#46039f"
             ],
             [
              0.2222222222222222,
              "#7201a8"
             ],
             [
              0.3333333333333333,
              "#9c179e"
             ],
             [
              0.4444444444444444,
              "#bd3786"
             ],
             [
              0.5555555555555556,
              "#d8576b"
             ],
             [
              0.6666666666666666,
              "#ed7953"
             ],
             [
              0.7777777777777778,
              "#fb9f3a"
             ],
             [
              0.8888888888888888,
              "#fdca26"
             ],
             [
              1,
              "#f0f921"
             ]
            ],
            "type": "histogram2dcontour"
           }
          ],
          "mesh3d": [
           {
            "colorbar": {
             "outlinewidth": 0,
             "ticks": ""
            },
            "type": "mesh3d"
           }
          ],
          "parcoords": [
           {
            "line": {
             "colorbar": {
              "outlinewidth": 0,
              "ticks": ""
             }
            },
            "type": "parcoords"
           }
          ],
          "pie": [
           {
            "automargin": true,
            "type": "pie"
           }
          ],
          "scatter": [
           {
            "fillpattern": {
             "fillmode": "overlay",
             "size": 10,
             "solidity": 0.2
            },
            "type": "scatter"
           }
          ],
          "scatter3d": [
           {
            "line": {
             "colorbar": {
              "outlinewidth": 0,
              "ticks": ""
             }
            },
            "marker": {
             "colorbar": {
              "outlinewidth": 0,
              "ticks": ""
             }
            },
            "type": "scatter3d"
           }
          ],
          "scattercarpet": [
           {
            "marker": {
             "colorbar": {
              "outlinewidth": 0,
              "ticks": ""
             }
            },
            "type": "scattercarpet"
           }
          ],
          "scattergeo": [
           {
            "marker": {
             "colorbar": {
              "outlinewidth": 0,
              "ticks": ""
             }
            },
            "type": "scattergeo"
           }
          ],
          "scattergl": [
           {
            "marker": {
             "colorbar": {
              "outlinewidth": 0,
              "ticks": ""
             }
            },
            "type": "scattergl"
           }
          ],
          "scattermapbox": [
           {
            "marker": {
             "colorbar": {
              "outlinewidth": 0,
              "ticks": ""
             }
            },
            "type": "scattermapbox"
           }
          ],
          "scatterpolar": [
           {
            "marker": {
             "colorbar": {
              "outlinewidth": 0,
              "ticks": ""
             }
            },
            "type": "scatterpolar"
           }
          ],
          "scatterpolargl": [
           {
            "marker": {
             "colorbar": {
              "outlinewidth": 0,
              "ticks": ""
             }
            },
            "type": "scatterpolargl"
           }
          ],
          "scatterternary": [
           {
            "marker": {
             "colorbar": {
              "outlinewidth": 0,
              "ticks": ""
             }
            },
            "type": "scatterternary"
           }
          ],
          "surface": [
           {
            "colorbar": {
             "outlinewidth": 0,
             "ticks": ""
            },
            "colorscale": [
             [
              0,
              "#0d0887"
             ],
             [
              0.1111111111111111,
              "#46039f"
             ],
             [
              0.2222222222222222,
              "#7201a8"
             ],
             [
              0.3333333333333333,
              "#9c179e"
             ],
             [
              0.4444444444444444,
              "#bd3786"
             ],
             [
              0.5555555555555556,
              "#d8576b"
             ],
             [
              0.6666666666666666,
              "#ed7953"
             ],
             [
              0.7777777777777778,
              "#fb9f3a"
             ],
             [
              0.8888888888888888,
              "#fdca26"
             ],
             [
              1,
              "#f0f921"
             ]
            ],
            "type": "surface"
           }
          ],
          "table": [
           {
            "cells": {
             "fill": {
              "color": "#EBF0F8"
             },
             "line": {
              "color": "white"
             }
            },
            "header": {
             "fill": {
              "color": "#C8D4E3"
             },
             "line": {
              "color": "white"
             }
            },
            "type": "table"
           }
          ]
         },
         "layout": {
          "annotationdefaults": {
           "arrowcolor": "#2a3f5f",
           "arrowhead": 0,
           "arrowwidth": 1
          },
          "autotypenumbers": "strict",
          "coloraxis": {
           "colorbar": {
            "outlinewidth": 0,
            "ticks": ""
           }
          },
          "colorscale": {
           "diverging": [
            [
             0,
             "#8e0152"
            ],
            [
             0.1,
             "#c51b7d"
            ],
            [
             0.2,
             "#de77ae"
            ],
            [
             0.3,
             "#f1b6da"
            ],
            [
             0.4,
             "#fde0ef"
            ],
            [
             0.5,
             "#f7f7f7"
            ],
            [
             0.6,
             "#e6f5d0"
            ],
            [
             0.7,
             "#b8e186"
            ],
            [
             0.8,
             "#7fbc41"
            ],
            [
             0.9,
             "#4d9221"
            ],
            [
             1,
             "#276419"
            ]
           ],
           "sequential": [
            [
             0,
             "#0d0887"
            ],
            [
             0.1111111111111111,
             "#46039f"
            ],
            [
             0.2222222222222222,
             "#7201a8"
            ],
            [
             0.3333333333333333,
             "#9c179e"
            ],
            [
             0.4444444444444444,
             "#bd3786"
            ],
            [
             0.5555555555555556,
             "#d8576b"
            ],
            [
             0.6666666666666666,
             "#ed7953"
            ],
            [
             0.7777777777777778,
             "#fb9f3a"
            ],
            [
             0.8888888888888888,
             "#fdca26"
            ],
            [
             1,
             "#f0f921"
            ]
           ],
           "sequentialminus": [
            [
             0,
             "#0d0887"
            ],
            [
             0.1111111111111111,
             "#46039f"
            ],
            [
             0.2222222222222222,
             "#7201a8"
            ],
            [
             0.3333333333333333,
             "#9c179e"
            ],
            [
             0.4444444444444444,
             "#bd3786"
            ],
            [
             0.5555555555555556,
             "#d8576b"
            ],
            [
             0.6666666666666666,
             "#ed7953"
            ],
            [
             0.7777777777777778,
             "#fb9f3a"
            ],
            [
             0.8888888888888888,
             "#fdca26"
            ],
            [
             1,
             "#f0f921"
            ]
           ]
          },
          "colorway": [
           "#636efa",
           "#EF553B",
           "#00cc96",
           "#ab63fa",
           "#FFA15A",
           "#19d3f3",
           "#FF6692",
           "#B6E880",
           "#FF97FF",
           "#FECB52"
          ],
          "font": {
           "color": "#2a3f5f"
          },
          "geo": {
           "bgcolor": "white",
           "lakecolor": "white",
           "landcolor": "#E5ECF6",
           "showlakes": true,
           "showland": true,
           "subunitcolor": "white"
          },
          "hoverlabel": {
           "align": "left"
          },
          "hovermode": "closest",
          "mapbox": {
           "style": "light"
          },
          "paper_bgcolor": "white",
          "plot_bgcolor": "#E5ECF6",
          "polar": {
           "angularaxis": {
            "gridcolor": "white",
            "linecolor": "white",
            "ticks": ""
           },
           "bgcolor": "#E5ECF6",
           "radialaxis": {
            "gridcolor": "white",
            "linecolor": "white",
            "ticks": ""
           }
          },
          "scene": {
           "xaxis": {
            "backgroundcolor": "#E5ECF6",
            "gridcolor": "white",
            "gridwidth": 2,
            "linecolor": "white",
            "showbackground": true,
            "ticks": "",
            "zerolinecolor": "white"
           },
           "yaxis": {
            "backgroundcolor": "#E5ECF6",
            "gridcolor": "white",
            "gridwidth": 2,
            "linecolor": "white",
            "showbackground": true,
            "ticks": "",
            "zerolinecolor": "white"
           },
           "zaxis": {
            "backgroundcolor": "#E5ECF6",
            "gridcolor": "white",
            "gridwidth": 2,
            "linecolor": "white",
            "showbackground": true,
            "ticks": "",
            "zerolinecolor": "white"
           }
          },
          "shapedefaults": {
           "line": {
            "color": "#2a3f5f"
           }
          },
          "ternary": {
           "aaxis": {
            "gridcolor": "white",
            "linecolor": "white",
            "ticks": ""
           },
           "baxis": {
            "gridcolor": "white",
            "linecolor": "white",
            "ticks": ""
           },
           "bgcolor": "#E5ECF6",
           "caxis": {
            "gridcolor": "white",
            "linecolor": "white",
            "ticks": ""
           }
          },
          "title": {
           "x": 0.05
          },
          "xaxis": {
           "automargin": true,
           "gridcolor": "white",
           "linecolor": "white",
           "ticks": "",
           "title": {
            "standoff": 15
           },
           "zerolinecolor": "white",
           "zerolinewidth": 2
          },
          "yaxis": {
           "automargin": true,
           "gridcolor": "white",
           "linecolor": "white",
           "ticks": "",
           "title": {
            "standoff": 15
           },
           "zerolinecolor": "white",
           "zerolinewidth": 2
          }
         }
        },
        "title": {
         "text": "Top 10 Features by Coefficients with LASSO Regression"
        },
        "xaxis": {
         "range": [
          2.875001428037649e-7,
          0.0003242002956336364
         ],
         "title": {
          "text": "Coefficient"
         }
        },
        "yaxis": {
         "title": {
          "text": "Features"
         }
        }
       }
      }
     },
     "metadata": {},
     "output_type": "display_data"
    }
   ],
   "source": [
    "trace = go.Bar(\n",
    "    y=top_ten['feature'],\n",
    "    x=top_ten['coef'],\n",
    "    orientation='h',\n",
    "    marker=dict(color=['#ff7f0e','#1f77b4','#2ca02c','#d62728','#9467bd','#8c564b','#e377c2','#7f7f7f','#bcbd22','#17becf']),\n",
    ")\n",
    "\n",
    "x_min = np.min(top_ten['coef']) \n",
    "x_max = np.max(top_ten['coef'])\n",
    "\n",
    "# Add labels to the plot\n",
    "layout = go.Layout(\n",
    "    xaxis=dict(title='Coefficient', range=[x_min, x_max + 0.0001]),\n",
    "    yaxis=dict(title='Features'),\n",
    "    title='Top 10 Features by Coefficients with LASSO Regression',\n",
    ")\n",
    "    \n",
    "fig = go.Figure(data=[trace], layout=layout)\n",
    "fig.update_layout(annotations=annotations)\n",
    "fig.show()\n",
    "\n",
    "fig_json = json.dumps(fig, cls=plotly.utils.PlotlyJSONEncoder)\n",
    "with open('FeatureSelection2.json', 'w') as f:\n",
    "    f.write(fig_json)"
   ]
  },
  {
   "cell_type": "code",
   "execution_count": null,
   "id": "5a035025",
   "metadata": {},
   "outputs": [],
   "source": []
  }
 ],
 "metadata": {
  "kernelspec": {
   "display_name": "Python 3 (ipykernel)",
   "language": "python",
   "name": "python3"
  },
  "language_info": {
   "codemirror_mode": {
    "name": "ipython",
    "version": 3
   },
   "file_extension": ".py",
   "mimetype": "text/x-python",
   "name": "python",
   "nbconvert_exporter": "python",
   "pygments_lexer": "ipython3",
   "version": "3.11.3"
  }
 },
 "nbformat": 4,
 "nbformat_minor": 5
}
